{
 "cells": [
  {
   "cell_type": "code",
   "execution_count": 1,
   "id": "9ab62545-578d-4351-bc65-ee2733818184",
   "metadata": {},
   "outputs": [],
   "source": [
    "import numpy as np\n",
    "from matplotlib import pyplot as plt\n",
    "import jax.numpy as jnp\n",
    "from jax import jit, grad, jacfwd, jacrev"
   ]
  },
  {
   "cell_type": "code",
   "execution_count": null,
   "id": "44a49261-c516-47e6-ade8-8003897bed39",
   "metadata": {},
   "outputs": [],
   "source": [
    "Q = np.diag([1.0, 1.0])\n",
    "\n",
    "# Only for contour plot\n",
    "def plot_f(X, Y):\n",
    "    # equivalent to 0.5 * ([X,Y] - [1,0]).T @ Q @ ([X,Y] - [1,0])\n",
    "    return 0.5*(0.5*(X-1)**2 + Y**2)\n",
    "\n",
    "def f(x):\n",
    "    B = np.array([1, 0])\n",
    "    return 0.5 * (x - B).T @ Q @ (x - B)\n",
    "\n",
    "def grad_f(x):\n",
    "    B = np.array([1, 0])\n",
    "    return Q @ (x - B)\n",
    "\n",
    "def hess_f(x):\n",
    "    return Q"
   ]
  }
 ],
 "metadata": {
  "kernelspec": {
   "display_name": "Python 3 (ipykernel)",
   "language": "python",
   "name": "python3"
  },
  "language_info": {
   "codemirror_mode": {
    "name": "ipython",
    "version": 3
   },
   "file_extension": ".py",
   "mimetype": "text/x-python",
   "name": "python",
   "nbconvert_exporter": "python",
   "pygments_lexer": "ipython3",
   "version": "3.11.9"
  }
 },
 "nbformat": 4,
 "nbformat_minor": 5
}
