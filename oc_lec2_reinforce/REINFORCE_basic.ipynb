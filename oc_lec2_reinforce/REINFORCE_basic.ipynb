{
  "nbformat": 4,
  "nbformat_minor": 0,
  "metadata": {
    "colab": {
      "provenance": [],
      "gpuType": "T4",
      "authorship_tag": "ABX9TyPXg1GtU6gygufD2USP1RjN",
      "include_colab_link": true
    },
    "kernelspec": {
      "name": "python3",
      "display_name": "Python 3"
    },
    "language_info": {
      "name": "python"
    },
    "accelerator": "GPU"
  },
  "cells": [
    {
      "cell_type": "markdown",
      "metadata": {
        "id": "view-in-github",
        "colab_type": "text"
      },
      "source": [
        "<a href=\"https://colab.research.google.com/github/kimsooyoung/rl_oc_python/blob/main/oc_lec2_reinforce/REINFORCE_basic.ipynb\" target=\"_parent\"><img src=\"https://colab.research.google.com/assets/colab-badge.svg\" alt=\"Open In Colab\"/></a>"
      ]
    },
    {
      "cell_type": "markdown",
      "source": [
        "## Install Requirements"
      ],
      "metadata": {
        "id": "23UOXgvw5ZEx"
      }
    },
    {
      "cell_type": "code",
      "source": [
        "!apt-get install -y xvfb python-opengl ffmpeg > /dev/null 2>&1\n",
        "!pip install swig\n",
        "!pip install renderlab\n",
        "!pip install gymnasium\n",
        "!pip install gymnasium[box2d]"
      ],
      "metadata": {
        "id": "MZkzTWtY5UB1"
      },
      "execution_count": null,
      "outputs": []
    },
    {
      "cell_type": "markdown",
      "source": [
        "### Import the Necessary Packages"
      ],
      "metadata": {
        "id": "0xCAUe6B5i71"
      }
    },
    {
      "cell_type": "code",
      "source": [
        "import gymnasium as gym\n",
        "import collections\n",
        "import random\n",
        "\n",
        "import torch\n",
        "import torch.nn as nn\n",
        "import torch.nn.functional as F\n",
        "import torch.optim as optim\n",
        "from torch.distributions import Categorical"
      ],
      "metadata": {
        "id": "77hAHSqi5gQg"
      },
      "execution_count": null,
      "outputs": []
    },
    {
      "cell_type": "markdown",
      "source": [
        "### `torch.distributions.categorical.Categorical` example"
      ],
      "metadata": {
        "id": "O1PyvsIQ6uRV"
      }
    },
    {
      "cell_type": "code",
      "source": [
        "prob_list = torch.tensor([-2, -1, 0, 1, 2])\n",
        "c_result = Categorical(logits=prob_list)\n",
        "c_result.probs"
      ],
      "metadata": {
        "colab": {
          "base_uri": "https://localhost:8080/"
        },
        "id": "Jos6-Oag5kfh",
        "outputId": "b50d2c82-248f-4eec-f5fd-22842b065186"
      },
      "execution_count": null,
      "outputs": [
        {
          "output_type": "execute_result",
          "data": {
            "text/plain": [
              "tensor([0.0117, 0.0317, 0.0861, 0.2341, 0.6364])"
            ]
          },
          "metadata": {},
          "execution_count": 3
        }
      ]
    },
    {
      "cell_type": "markdown",
      "source": [
        "This is exactly same with below"
      ],
      "metadata": {
        "id": "y0UevxZc7UeU"
      }
    },
    {
      "cell_type": "code",
      "source": [
        "torch.exp(prob_list) / torch.sum(torch.exp(prob_list))"
      ],
      "metadata": {
        "colab": {
          "base_uri": "https://localhost:8080/"
        },
        "id": "MZQcDm7Z7JNK",
        "outputId": "80f6d7a4-83b5-4573-d8e5-191ff4ff8d5a"
      },
      "execution_count": null,
      "outputs": [
        {
          "output_type": "execute_result",
          "data": {
            "text/plain": [
              "tensor([0.0117, 0.0317, 0.0861, 0.2341, 0.6364])"
            ]
          },
          "metadata": {},
          "execution_count": 4
        }
      ]
    },
    {
      "cell_type": "markdown",
      "source": [
        "## Render Test"
      ],
      "metadata": {
        "id": "83adqaQj7f8G"
      }
    },
    {
      "cell_type": "code",
      "source": [
        "import renderlab as rl\n",
        "\n",
        "env = gym.make(\"CartPole-v1\", render_mode = \"rgb_array\")\n",
        "env = rl.RenderFrame(env, \"./output\")\n",
        "\n",
        "observation, info = env.reset()\n",
        "score = 0\n",
        "\n",
        "while True:\n",
        "  action = env.action_space.sample()\n",
        "  observation, reward, terminated, truncated, info = env.step(action)\n",
        "  score += reward\n",
        "\n",
        "  if terminated:\n",
        "    print(\"Score : \", score)\n",
        "    break\n",
        "\n",
        "env.play()"
      ],
      "metadata": {
        "colab": {
          "base_uri": "https://localhost:8080/",
          "height": 603
        },
        "id": "AJ8yg9iq7TO4",
        "outputId": "4dd6eff7-ed54-4c01-e25d-63e9b2cd7146"
      },
      "execution_count": null,
      "outputs": [
        {
          "output_type": "stream",
          "name": "stdout",
          "text": [
            "Score :  22.0\n",
            "Moviepy - Building video temp-{start}.mp4.\n",
            "Moviepy - Writing video temp-{start}.mp4\n",
            "\n"
          ]
        },
        {
          "output_type": "stream",
          "name": "stderr",
          "text": [
            "\rt:   0%|          | 0/24 [00:00<?, ?it/s, now=None]WARNING:py.warnings:/usr/local/lib/python3.10/dist-packages/moviepy/video/io/ffmpeg_reader.py:123: UserWarning: Warning: in file ./output/1715777876.3422132.mp4, 720000 bytes wanted but 0 bytes read,at frame 23/24, at time 0.77/0.77 sec. Using the last valid frame instead.\n",
            "  warnings.warn(\"Warning: in file %s, \"%(self.filename)+\n",
            "\n",
            "                                                   "
          ]
        },
        {
          "output_type": "stream",
          "name": "stdout",
          "text": [
            "Moviepy - Done !\n",
            "Moviepy - video ready temp-{start}.mp4\n"
          ]
        },
        {
          "output_type": "stream",
          "name": "stderr",
          "text": [
            "\r"
          ]
        },
        {
          "output_type": "display_data",
          "data": {
            "text/plain": [
              "<IPython.core.display.Video object>"
            ],
            "text/html": [
              "<video controls  >\n",
              " <source src=\"data:video/mp4;base64,AAAAIGZ0eXBpc29tAAACAGlzb21pc28yYXZjMW1wNDEAAAAIZnJlZQAADKVtZGF0AAACrgYF//+q3EXpvebZSLeWLNgg2SPu73gyNjQgLSBjb3JlIDE1OSByMjk5MSAxNzcxYjU1IC0gSC4yNjQvTVBFRy00IEFWQyBjb2RlYyAtIENvcHlsZWZ0IDIwMDMtMjAxOSAtIGh0dHA6Ly93d3cudmlkZW9sYW4ub3JnL3gyNjQuaHRtbCAtIG9wdGlvbnM6IGNhYmFjPTEgcmVmPTMgZGVibG9jaz0xOjA6MCBhbmFseXNlPTB4MzoweDExMyBtZT1oZXggc3VibWU9NyBwc3k9MSBwc3lfcmQ9MS4wMDowLjAwIG1peGVkX3JlZj0xIG1lX3JhbmdlPTE2IGNocm9tYV9tZT0xIHRyZWxsaXM9MSA4eDhkY3Q9MSBjcW09MCBkZWFkem9uZT0yMSwxMSBmYXN0X3Bza2lwPTEgY2hyb21hX3FwX29mZnNldD0tMiB0aHJlYWRzPTMgbG9va2FoZWFkX3RocmVhZHM9MSBzbGljZWRfdGhyZWFkcz0wIG5yPTAgZGVjaW1hdGU9MSBpbnRlcmxhY2VkPTAgYmx1cmF5X2NvbXBhdD0wIGNvbnN0cmFpbmVkX2ludHJhPTAgYmZyYW1lcz0zIGJfcHlyYW1pZD0yIGJfYWRhcHQ9MSBiX2JpYXM9MCBkaXJlY3Q9MSB3ZWlnaHRiPTEgb3Blbl9nb3A9MCB3ZWlnaHRwPTIga2V5aW50PTI1MCBrZXlpbnRfbWluPTI1IHNjZW5lY3V0PTQwIGludHJhX3JlZnJlc2g9MCByY19sb29rYWhlYWQ9NDAgcmM9Y3JmIG1idHJlZT0xIGNyZj0yMy4wIHFjb21wPTAuNjAgcXBtaW49MCBxcG1heD02OSBxcHN0ZXA9NCBpcF9yYXRpbz0xLjQwIGFxPTE6MS4wMACAAAACHmWIhAAr//7Y5/Msq1xA0DVUuHVl7uFSgaMoZ2nkvUzAAAADAAADAABo/Ot9/srZ0dc2TAAAAwIUAF6DPCjCvjqEhH2OplPAm3oAaOf4JBvy57FG9W/n1WfERGGCnm5vKfkCGpPAOW8dnjDtebwRfTUOXzp2n5zJ955zA6n0G0dcGQvibr/0x0jRrP6DLFHSPYmfewet/53qmsRcoWJ4q0a2OeCP1fwOhiSdyQsRwGSCTlTTvgmN3J5dU8tsCWlWjMCCSxGNwrn4YgqDn+t8PJgop/zuheue1JcsWIbc6caYwEK469qtNPPbEIfQn6goVyqn6Q4YoBLWcfMAEVqBNGkbKbPcUIrOjoajkZfANFOlJJpuYGmK5AH/XFUwMBKVLp2tgFQdDtlPCWF/OjU1htKHlJ4FRde3NPnynm848J8JS6wsIB80JLGQkpFRPZd8hmmaxSRtwCZ18CnEABRvZSLhPgK0l8pCGQl5aNIm8ItIJS4Y6RYoNspvhphg+VERUM1+i15X3PBJF6p96i8yWIh9Pp3ELX0/+9RqK7GzyGhn8863OO/Guz/MKcPH1F32KJHqt/Cf51//b9cDMecNLHsLr33jpBhFg96VSCynlLvj3Zyzyyf0a5tYCULBX8j3Pt8JpCJhzEtaZFivLLt9fTVTHel16EVTPJ0Wfyf6veSHvUjekZp2D+EHwioPXzoBRJL0kLvwApCAAAADAOKBAAAAWUGaJGxCv/44QAAAaXaQoGI1lfNlkqJtlS/QAqY5yUlbcOa27dlKmxTM4A5PeVwcI7NxBT5ioxg5hlefbaB6lO6eD3OOlkfbphdYKp8TGd9XA6+RIG/va/gKAAAAHUGeQniP/wAADc/WLq9iQaOxx0j0t78rj6a57rhxAAAAHwGeYXRG/wAABprtZcBU51x/QHQcjmFfguQ3ZlM6KnAAAAARAZ5jakb/AAADACGuaEXQcqcAAACEQZpoSahBaJlMCFf//jhAAAEW6Jqu+FEA0dhdDG/5Vwq69aWfIAgrhYOW5SvWiW61vgQVLGmTumoU9RchtEwncys1xjbwUHk+tniZX3rL3jA9eEd0heF7XJuMJULvZEb9de/053jR8Lqk8pJPHZBlP2L9UnCxhluSwGm0N3FRVeeKZUeHAAAAPkGehkURLH8AACS/BCWPEH2b4/gAKp4/aN1l5ykrlJg3lXn/Ul2cilvFhUbTan/GUEQJhuw5JPTSVYqIa2pdAAAAMAGepXRG/wAAEWSYmkw7iXiv7NJ2BSb1RRda/TChdcrb1QmO14dUCQ9SS4n0e0u+YQAAACsBnqdqRv8AAC6FYWYmcIgxRUBaVSVbOHc366uOn40trrD1qVAvkfMZjQZgAAAAt0GarEmoQWyZTAhX//44QAAAaUbcqgVKvgqDF44fTICdNy/FBXjHWpzNe20otCEijmgeRlFsUthWD1Exf6Vdz08mIqKHhkAIVjh1Wqsud0JZWfYtvMD5Jf8zYhimqbGp2U4Bh78ZlRvz437fPUWtBF265us/lGD5zvK5iE1/XCN0IfadoSbcu7e+m7li85gTXZuZFXyniuzTvzvGBjTdGjypXOLPm5HWJaZC5WRvsWDAxvLXOp7nsAAAADtBnspFFSx/AAAkvxraaKbVDpNGjh/UU5pnT20Rr/YXIIPX4clNruoPJUylZtJaCuejOkY1vcyf4sg1qQAAAB8Bnul0Rv8AABFUH8YpplrD6J2sp/CuIHh100fOeR6AAAAANAGe62pG/wAALpj4vu7WtScsKO6lnS/gP34tUNQQB99SlgWsDWlJLNUbS8LDGqQLoxo31dIAAADFQZrwSahBbJlMCFf//jhAAAENkvyf9W0eZenveH3HYImx4boB0HOpD5wT+/tATnRUErcCWQnJTgBQdIySle8Thez2SVTpdeGWlgqhFG3snoo6z+Zl1qhPlvKasvl+hiMRYxd+S0R1/94gpH/jztIRM/5dmzWNJjWOcHfY+iexOTts4h4W18cN9xe5nxZOFubCZJ/2PkfAxPlRFbw6lrO3EXSXQ8f4KoFDKlKmZdjD88Zn59cl66jqSiakykJy2GPVCIg+DE0AAABYQZ8ORRUsfwAAJMe/H8LObBNt1rhzNm7ITjGTd4BFHPjU9Qy1y84Z6RgYkuiqUACTAZLA3Is2Q8WHMPHCm/6t7mo5bZW5e6lJHl0We3A7zuovtshE3hFrwQAAAEcBny10Rv8AAC5+l3cnxFYmr6g75G8QU/dvnTMBtdjnIBFXlP5tKdErEw+VALTozd1D+6eXkId37kDFemJqwEP3D46YqFMZcQAAAEMBny9qRv8AAC6YrJrUg8GGgN48hCT8P9kYIp7vMQeWxHVluySL+3N+Gu1cGnne14WDVwAiDdi5L00lGvHNHNraeJ/AAAAA5EGbNEmoQWyZTAhH//3hAAAEEgCGrgxwV+AINZqU1bIZx5OOagzNRtoXtMdo+1TUe8kUZnfC87avqk+GiCk1h4iqaeY08sY5RHLZhSS4cnIJxBrCBA1xG1AuU/4YAf2PDrJL4nvyk+u2ud9D3wgzT2CMEbCRtTlfJCuDc88UEWCgc+UwuWnFvDQNu0ZEvcpZZICwVtxLLQFFGInCH2xToUQN3d3DpLe9AUDVKHZnfK2RA+chRj3QZVYfApdwwJN7dMoTVgVwAh1ijmmwS4Iebg+Oft1jd9Z8fyKl05IK+oZYSXfFQAAAAGNBn1JFFSx/AAAkx7ZhCdYFpXx5lpGDUJbscBNe2kj9knmmUSklG6IEQI1YY41VQNhD2uPxO3yOk7hQCHg0waePKLggAVnCgVAvWkrQBYdZG+M30V/Le4Wa/BEFJTMlokuj0H0AAABPAZ9xdEb/AAAufsHteJFWdqIlYt6FKG6ntee1lnvvvymCKzDMR9tp7hGXQW5kLon8LaabgUABbFbTpqF4yz0vvCLEinbxTNo0mfIVoHIsHQAAADgBn3NqRv8AAC6YjbsjbWPG7MzGbwVIzZgfch9tfJe9ktXC3bRHNpHvisi8pV1HyCbZwxXon22UgAAAAHpBm3dJqEFsmUwI3/pYAAAfJDsMhEj+1Rx4zHPLtFf7uscqHeGY29vzWcirti8o5AerCiT0EyqwmVkAbHG+kHBDQXzvvxsVVARWs6BwyKVyi0KJkE9zeVm/QUUH3bZEp6olc7TXPRKII4H+ijRSXaev+L/VN9jsTgo2wQAAAFJBn5VFFSx/AAAkx78fmNKQzB4tEiq7H4X84QDt+faJtBK6ariSDuECordrOnnh60ndJyvVvWgRuJwAcTXn96FH6yBavnkl2EJaeA8QFCf2sfusAAAAJAGftmpG/wAALpisNeQNAKN+p2aZcsUPuz4yPmoBSjVdCMe2qQAABCttb292AAAAbG12aGQAAAAAAAAAAAAAAAAAAAPoAAADIAABAAABAAAAAAAAAAAAAAAAAQAAAAAAAAAAAAAAAAAAAAEAAAAAAAAAAAAAAAAAAEAAAAAAAAAAAAAAAAAAAAAAAAAAAAAAAAAAAAAAAAACAAADVXRyYWsAAABcdGtoZAAAAAMAAAAAAAAAAAAAAAEAAAAAAAADIAAAAAAAAAAAAAAAAAAAAAAAAQAAAAAAAAAAAAAAAAAAAAEAAAAAAAAAAAAAAAAAAEAAAAACWAAAAZAAAAAAACRlZHRzAAAAHGVsc3QAAAAAAAAAAQAAAyAAAAQAAAEAAAAAAs1tZGlhAAAAIG1kaGQAAAAAAAAAAAAAAAAAADwAAAAwAFXEAAAAAAAtaGRscgAAAAAAAAAAdmlkZQAAAAAAAAAAAAAAAFZpZGVvSGFuZGxlcgAAAAJ4bWluZgAAABR2bWhkAAAAAQAAAAAAAAAAAAAAJGRpbmYAAAAcZHJlZgAAAAAAAAABAAAADHVybCAAAAABAAACOHN0YmwAAACYc3RzZAAAAAAAAAABAAAAiGF2YzEAAAAAAAAAAQAAAAAAAAAAAAAAAAAAAAACWAGQAEgAAABIAAAAAAAAAAEAAAAAAAAAAAAAAAAAAAAAAAAAAAAAAAAAAAAAAAAAAAAY//8AAAAyYXZjQwFkAB7/4QAZZ2QAHqzZQJgz5eEAAAMAAQAAAwA8DxYtlgEABmjr48siwAAAABhzdHRzAAAAAAAAAAEAAAAYAAACAAAAABRzdHNzAAAAAAAAAAEAAAABAAAAyGN0dHMAAAAAAAAAFwAAAAEAAAQAAAAAAQAACgAAAAABAAAEAAAAAAEAAAAAAAAAAQAAAgAAAAABAAAKAAAAAAEAAAQAAAAAAQAAAAAAAAABAAACAAAAAAEAAAoAAAAAAQAABAAAAAABAAAAAAAAAAEAAAIAAAAAAQAACgAAAAABAAAEAAAAAAEAAAAAAAAAAQAAAgAAAAABAAAKAAAAAAEAAAQAAAAAAQAAAAAAAAABAAACAAAAAAEAAAgAAAAAAgAAAgAAAAAcc3RzYwAAAAAAAAABAAAAAQAAABgAAAABAAAAdHN0c3oAAAAAAAAAAAAAABgAAATUAAAAXQAAACEAAAAjAAAAFQAAAIgAAABCAAAANAAAAC8AAAC7AAAAPwAAACMAAAA4AAAAyQAAAFwAAABLAAAARwAAAOgAAABnAAAAUwAAADwAAAB+AAAAVgAAACgAAAAUc3RjbwAAAAAAAAABAAAAMAAAAGJ1ZHRhAAAAWm1ldGEAAAAAAAAAIWhkbHIAAAAAAAAAAG1kaXJhcHBsAAAAAAAAAAAAAAAALWlsc3QAAAAlqXRvbwAAAB1kYXRhAAAAAQAAAABMYXZmNTguMjkuMTAw\" type=\"video/mp4\">\n",
              " Your browser does not support the video tag.\n",
              " </video>"
            ]
          },
          "metadata": {}
        }
      ]
    },
    {
      "cell_type": "markdown",
      "source": [
        "## Initialize Hyper Params"
      ],
      "metadata": {
        "id": "dmxzGyoz7jmG"
      }
    },
    {
      "cell_type": "code",
      "source": [
        "learning_rate = 0.0002\n",
        "gamma         = 0.98"
      ],
      "metadata": {
        "id": "ECg2XVov7hKQ"
      },
      "execution_count": null,
      "outputs": []
    },
    {
      "cell_type": "markdown",
      "source": [
        "## Define Policy Class\n",
        "\n",
        "- input: 4 length tensor\n",
        "- layer structure: (4 * 128) = ReLU > (128 * 2) = softmax>\n",
        "- **[Caution]** final layer must be softmax, because total sum of policy should be 1\n",
        "\n",
        "\n",
        "- `put_data` method: append episodes into class variable. We'll only save **Rewards & NN outputs** as episodes.\n",
        "- `train_net` method : optimize network with policy gradient loss\n",
        "\n",
        "$\\quad \\quad \\nabla_\\theta J = G * \\nabla log \\pi(s, a) $\n",
        "\n",
        "$\\quad \\quad therefore, J = G * log \\pi(s, a) $\n",
        "\n",
        "\n",
        "> However, We need Maximum Cost, not the minimum cost. Hence sign is suppose to be negative.\n",
        "\n",
        "$\\quad \\quad J = - G * log \\pi(s, a)$"
      ],
      "metadata": {
        "id": "H-q2joU87xjr"
      }
    },
    {
      "cell_type": "code",
      "source": [
        "class Policy(nn.Module):\n",
        "  def __init__(self):\n",
        "    super(Policy, self).__init__()\n",
        "    self.data = []\n",
        "\n",
        "    self.fc1 = nn.Linear(4, 128)\n",
        "    self.fc2 = nn.Linear(128, 2)\n",
        "    self.optimizer = optim.Adam(self.parameters(), lr=learning_rate)\n",
        "\n",
        "  def forward(self, obs):\n",
        "    x1 = F.relu(self.fc1(obs))\n",
        "    x2 = F.softmax(self.fc2(x1), dim=0)\n",
        "    return x2\n",
        "\n",
        "  def put_data(self, transition):\n",
        "    self.data.append(transition)\n",
        "\n",
        "  def train_net(self):\n",
        "\n",
        "    R = 0\n",
        "    self.optimizer.zero_grad()\n",
        "\n",
        "    for r, prob in self.data[::-1]:\n",
        "      R = R + gamma * r\n",
        "      loss = - R * torch.log(prob)\n",
        "      loss.backward()\n",
        "\n",
        "    self.optimizer.step()\n",
        "    self.data = []"
      ],
      "metadata": {
        "id": "DofX8L2p7q6R"
      },
      "execution_count": null,
      "outputs": []
    },
    {
      "cell_type": "markdown",
      "source": [
        "## Main loop\n",
        "\n",
        "- create environments and policy, and reset score value\n",
        "- for each train epochs\n",
        "  - reset environment\n",
        "  - train policy after each episodes\n",
        "  - for each episodes\n",
        "    - obtain policy action probability and actual action value\n",
        "    - step environment\n",
        "    - put transistion into dataset\n",
        "    - update state, update score"
      ],
      "metadata": {
        "id": "Uvz3QOTuE-tw"
      }
    },
    {
      "cell_type": "code",
      "source": [
        "env = gym.make(\"CartPole-v1\")\n",
        "policy = Policy()\n",
        "\n",
        "score = 0.0\n",
        "print_interval = 200\n",
        "\n",
        "for epi in range(2600):\n",
        "  s, _ = env.reset()\n",
        "  done = False\n",
        "\n",
        "  while not done:\n",
        "    prob = policy( torch.from_numpy(s).float() )\n",
        "    action = Categorical(prob).sample()\n",
        "    sp, r, done, truncated, info = env.step(action.item())\n",
        "    policy.put_data( (r, prob[action]) )\n",
        "\n",
        "    s = sp\n",
        "    score += r\n",
        "\n",
        "    if done:\n",
        "      break\n",
        "\n",
        "  policy.train_net()\n",
        "\n",
        "  if (epi % print_interval == 0) and (epi != 0):\n",
        "    print(f\"epi: {epi} / avg_score: {score / print_interval}\")\n",
        "    score = 0.0\n",
        "\n",
        "env.close()"
      ],
      "metadata": {
        "colab": {
          "base_uri": "https://localhost:8080/"
        },
        "id": "0omcyE0bEr-n",
        "outputId": "867929ac-78aa-4f66-c578-01f915aa2b6e"
      },
      "execution_count": null,
      "outputs": [
        {
          "output_type": "stream",
          "name": "stdout",
          "text": [
            "epi: 200 / avg_score: 27.53\n",
            "epi: 400 / avg_score: 35.47\n",
            "epi: 600 / avg_score: 49.87\n",
            "epi: 800 / avg_score: 63.59\n",
            "epi: 1000 / avg_score: 77.36\n",
            "epi: 1200 / avg_score: 146.89\n",
            "epi: 1400 / avg_score: 254.225\n",
            "epi: 1600 / avg_score: 362.245\n",
            "epi: 1800 / avg_score: 530.89\n",
            "epi: 2000 / avg_score: 882.45\n",
            "epi: 2200 / avg_score: 1511.955\n",
            "epi: 2400 / avg_score: 2171.51\n"
          ]
        }
      ]
    },
    {
      "cell_type": "markdown",
      "source": [
        "##  Test result with Rendered Animation\n",
        "\n",
        "[test video](https://github.com/kimsooyoung/rl_oc_python/assets/12381733/9cd16567-d910-4ee8-ad8f-f4f1f1fa0f94)"
      ],
      "metadata": {
        "id": "Z8OUavWiYm9-"
      }
    },
    {
      "cell_type": "code",
      "source": [
        "import renderlab as rl\n",
        "\n",
        "env = gym.make(\"CartPole-v1\", render_mode = \"rgb_array\")\n",
        "env = rl.RenderFrame(env, \"./output\")\n",
        "s, info = env.reset()\n",
        "\n",
        "while True:\n",
        "  prob = policy( torch.from_numpy(s).float() )\n",
        "  action = Categorical(prob).sample()\n",
        "  sp, r, done, truncated, info = env.step(action.item())\n",
        "  policy.put_data( (r, prob[action]) )\n",
        "\n",
        "  s = sp\n",
        "  score += r\n",
        "\n",
        "  if done or truncated:\n",
        "    break\n",
        "\n",
        "env.play()"
      ],
      "metadata": {
        "colab": {
          "base_uri": "https://localhost:8080/",
          "height": 511
        },
        "id": "TGCQmlZFJBBO",
        "outputId": "040c7c7c-e510-47a2-d29b-c091f1ccb5bb"
      },
      "execution_count": null,
      "outputs": [
        {
          "output_type": "stream",
          "name": "stdout",
          "text": [
            "Moviepy - Building video temp-{start}.mp4.\n",
            "Moviepy - Writing video temp-{start}.mp4\n",
            "\n"
          ]
        },
        {
          "output_type": "stream",
          "name": "stderr",
          "text": [
            "                                                               "
          ]
        },
        {
          "output_type": "stream",
          "name": "stdout",
          "text": [
            "Moviepy - Done !\n",
            "Moviepy - video ready temp-{start}.mp4\n"
          ]
        },
        {
          "output_type": "stream",
          "name": "stderr",
          "text": [
            "\r"
          ]
        },
        {
          "output_type": "display_data",
          "data": {
            "text/plain": [
              "<IPython.core.display.Video object>"
            ],
            "text/html": [
              "<video controls  >\n",
              " <source src=\"data:video/mp4;base64,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\" type=\"video/mp4\">\n",
              " Your browser does not support the video tag.\n",
              " </video>"
            ]
          },
          "metadata": {}
        }
      ]
    },
    {
      "cell_type": "code",
      "source": [],
      "metadata": {
        "id": "oZJlp6mgY870"
      },
      "execution_count": null,
      "outputs": []
    }
  ]
}