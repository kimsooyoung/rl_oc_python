{
  "nbformat": 4,
  "nbformat_minor": 0,
  "metadata": {
    "colab": {
      "provenance": [],
      "gpuType": "T4",
      "authorship_tag": "ABX9TyPAbQfKpcFJ2LmewKGE5H2L",
      "include_colab_link": true
    },
    "kernelspec": {
      "name": "python3",
      "display_name": "Python 3"
    },
    "language_info": {
      "name": "python"
    },
    "accelerator": "GPU"
  },
  "cells": [
    {
      "cell_type": "markdown",
      "metadata": {
        "id": "view-in-github",
        "colab_type": "text"
      },
      "source": [
        "<a href=\"https://colab.research.google.com/github/kimsooyoung/rl_oc_python/blob/main/oc_lec1_dqn/DQN_basic.ipynb\" target=\"_parent\"><img src=\"https://colab.research.google.com/assets/colab-badge.svg\" alt=\"Open In Colab\"/></a>"
      ]
    },
    {
      "cell_type": "markdown",
      "source": [
        "## Install Requirements"
      ],
      "metadata": {
        "id": "xy8CO91n3Rx5"
      }
    },
    {
      "cell_type": "code",
      "execution_count": null,
      "metadata": {
        "colab": {
          "base_uri": "https://localhost:8080/"
        },
        "id": "Yk3wFzeh24XH",
        "outputId": "b798709d-e652-4a7a-93f8-87ef2b3453a1"
      },
      "outputs": [
        {
          "output_type": "stream",
          "name": "stdout",
          "text": [
            "Collecting swig\n",
            "  Downloading swig-4.2.1-py2.py3-none-manylinux_2_5_x86_64.manylinux1_x86_64.whl (1.9 MB)\n",
            "\u001b[2K     \u001b[90m━━━━━━━━━━━━━━━━━━━━━━━━━━━━━━━━━━━━━━━━\u001b[0m \u001b[32m1.9/1.9 MB\u001b[0m \u001b[31m10.5 MB/s\u001b[0m eta \u001b[36m0:00:00\u001b[0m\n",
            "\u001b[?25hInstalling collected packages: swig\n",
            "Successfully installed swig-4.2.1\n",
            "Collecting renderlab\n",
            "  Downloading renderlab-0.1.20230421184216-py3-none-any.whl (4.0 kB)\n",
            "Requirement already satisfied: moviepy in /usr/local/lib/python3.10/dist-packages (from renderlab) (1.0.3)\n",
            "Collecting gymnasium (from renderlab)\n",
            "  Downloading gymnasium-0.29.1-py3-none-any.whl (953 kB)\n",
            "\u001b[2K     \u001b[90m━━━━━━━━━━━━━━━━━━━━━━━━━━━━━━━━━━━━━━━━\u001b[0m \u001b[32m953.9/953.9 kB\u001b[0m \u001b[31m7.7 MB/s\u001b[0m eta \u001b[36m0:00:00\u001b[0m\n",
            "\u001b[?25hRequirement already satisfied: numpy>=1.21.0 in /usr/local/lib/python3.10/dist-packages (from gymnasium->renderlab) (1.25.2)\n",
            "Requirement already satisfied: cloudpickle>=1.2.0 in /usr/local/lib/python3.10/dist-packages (from gymnasium->renderlab) (2.2.1)\n",
            "Requirement already satisfied: typing-extensions>=4.3.0 in /usr/local/lib/python3.10/dist-packages (from gymnasium->renderlab) (4.11.0)\n",
            "Collecting farama-notifications>=0.0.1 (from gymnasium->renderlab)\n",
            "  Downloading Farama_Notifications-0.0.4-py3-none-any.whl (2.5 kB)\n",
            "Requirement already satisfied: decorator<5.0,>=4.0.2 in /usr/local/lib/python3.10/dist-packages (from moviepy->renderlab) (4.4.2)\n",
            "Requirement already satisfied: tqdm<5.0,>=4.11.2 in /usr/local/lib/python3.10/dist-packages (from moviepy->renderlab) (4.66.4)\n",
            "Requirement already satisfied: requests<3.0,>=2.8.1 in /usr/local/lib/python3.10/dist-packages (from moviepy->renderlab) (2.31.0)\n",
            "Requirement already satisfied: proglog<=1.0.0 in /usr/local/lib/python3.10/dist-packages (from moviepy->renderlab) (0.1.10)\n",
            "Requirement already satisfied: imageio<3.0,>=2.5 in /usr/local/lib/python3.10/dist-packages (from moviepy->renderlab) (2.31.6)\n",
            "Requirement already satisfied: imageio-ffmpeg>=0.2.0 in /usr/local/lib/python3.10/dist-packages (from moviepy->renderlab) (0.4.9)\n",
            "Requirement already satisfied: pillow<10.1.0,>=8.3.2 in /usr/local/lib/python3.10/dist-packages (from imageio<3.0,>=2.5->moviepy->renderlab) (9.4.0)\n",
            "Requirement already satisfied: setuptools in /usr/local/lib/python3.10/dist-packages (from imageio-ffmpeg>=0.2.0->moviepy->renderlab) (67.7.2)\n",
            "Requirement already satisfied: charset-normalizer<4,>=2 in /usr/local/lib/python3.10/dist-packages (from requests<3.0,>=2.8.1->moviepy->renderlab) (3.3.2)\n",
            "Requirement already satisfied: idna<4,>=2.5 in /usr/local/lib/python3.10/dist-packages (from requests<3.0,>=2.8.1->moviepy->renderlab) (3.7)\n",
            "Requirement already satisfied: urllib3<3,>=1.21.1 in /usr/local/lib/python3.10/dist-packages (from requests<3.0,>=2.8.1->moviepy->renderlab) (2.0.7)\n",
            "Requirement already satisfied: certifi>=2017.4.17 in /usr/local/lib/python3.10/dist-packages (from requests<3.0,>=2.8.1->moviepy->renderlab) (2024.2.2)\n",
            "Installing collected packages: farama-notifications, gymnasium, renderlab\n",
            "Successfully installed farama-notifications-0.0.4 gymnasium-0.29.1 renderlab-0.1.20230421184216\n",
            "Requirement already satisfied: gymnasium in /usr/local/lib/python3.10/dist-packages (0.29.1)\n",
            "Requirement already satisfied: numpy>=1.21.0 in /usr/local/lib/python3.10/dist-packages (from gymnasium) (1.25.2)\n",
            "Requirement already satisfied: cloudpickle>=1.2.0 in /usr/local/lib/python3.10/dist-packages (from gymnasium) (2.2.1)\n",
            "Requirement already satisfied: typing-extensions>=4.3.0 in /usr/local/lib/python3.10/dist-packages (from gymnasium) (4.11.0)\n",
            "Requirement already satisfied: farama-notifications>=0.0.1 in /usr/local/lib/python3.10/dist-packages (from gymnasium) (0.0.4)\n",
            "Requirement already satisfied: gymnasium[box2d] in /usr/local/lib/python3.10/dist-packages (0.29.1)\n",
            "Requirement already satisfied: numpy>=1.21.0 in /usr/local/lib/python3.10/dist-packages (from gymnasium[box2d]) (1.25.2)\n",
            "Requirement already satisfied: cloudpickle>=1.2.0 in /usr/local/lib/python3.10/dist-packages (from gymnasium[box2d]) (2.2.1)\n",
            "Requirement already satisfied: typing-extensions>=4.3.0 in /usr/local/lib/python3.10/dist-packages (from gymnasium[box2d]) (4.11.0)\n",
            "Requirement already satisfied: farama-notifications>=0.0.1 in /usr/local/lib/python3.10/dist-packages (from gymnasium[box2d]) (0.0.4)\n",
            "Collecting box2d-py==2.3.5 (from gymnasium[box2d])\n",
            "  Downloading box2d-py-2.3.5.tar.gz (374 kB)\n",
            "\u001b[2K     \u001b[90m━━━━━━━━━━━━━━━━━━━━━━━━━━━━━━━━━━━━━━━━\u001b[0m \u001b[32m374.4/374.4 kB\u001b[0m \u001b[31m7.4 MB/s\u001b[0m eta \u001b[36m0:00:00\u001b[0m\n",
            "\u001b[?25h  Preparing metadata (setup.py) ... \u001b[?25l\u001b[?25hdone\n",
            "Requirement already satisfied: pygame>=2.1.3 in /usr/local/lib/python3.10/dist-packages (from gymnasium[box2d]) (2.5.2)\n",
            "Requirement already satisfied: swig==4.* in /usr/local/lib/python3.10/dist-packages (from gymnasium[box2d]) (4.2.1)\n",
            "Building wheels for collected packages: box2d-py\n",
            "  Building wheel for box2d-py (setup.py) ... \u001b[?25l\u001b[?25hdone\n",
            "  Created wheel for box2d-py: filename=box2d_py-2.3.5-cp310-cp310-linux_x86_64.whl size=2376101 sha256=a77fc3389f1e223b94775d635cf7bfddf69d2695a35d0a8d560931ff6bb95b70\n",
            "  Stored in directory: /root/.cache/pip/wheels/db/8f/6a/eaaadf056fba10a98d986f6dce954e6201ba3126926fc5ad9e\n",
            "Successfully built box2d-py\n",
            "Installing collected packages: box2d-py\n",
            "Successfully installed box2d-py-2.3.5\n"
          ]
        }
      ],
      "source": [
        "!apt-get install -y xvfb python-opengl ffmpeg > /dev/null 2>&1\n",
        "!pip install swig\n",
        "!pip install renderlab\n",
        "!pip install gymnasium\n",
        "!pip install gymnasium[box2d]"
      ]
    },
    {
      "cell_type": "markdown",
      "source": [
        "### Import the Necessary Packages"
      ],
      "metadata": {
        "id": "yLOtIuxp2-bK"
      }
    },
    {
      "cell_type": "code",
      "source": [
        "import gymnasium as gym\n",
        "import collections\n",
        "import random\n",
        "\n",
        "import torch\n",
        "import torch.nn as nn\n",
        "import torch.nn.functional as F\n",
        "import torch.optim as optim"
      ],
      "metadata": {
        "id": "sfEUjjrN3An0"
      },
      "execution_count": null,
      "outputs": []
    },
    {
      "cell_type": "markdown",
      "source": [
        "## Initialize Hyper Params"
      ],
      "metadata": {
        "id": "YziiLHgs5NhE"
      }
    },
    {
      "cell_type": "code",
      "source": [
        "learning_rate = 0.0005\n",
        "gamma         = 0.98\n",
        "buffer_limit  = 50000\n",
        "batch_size    = 32"
      ],
      "metadata": {
        "id": "oONlQO0X5M0b"
      },
      "execution_count": null,
      "outputs": []
    },
    {
      "cell_type": "markdown",
      "source": [
        "## Render Test"
      ],
      "metadata": {
        "id": "duSS3x6I3c6T"
      }
    },
    {
      "cell_type": "code",
      "source": [
        "import renderlab as rl\n",
        "\n",
        "env = gym.make(\"CartPole-v1\", render_mode = \"rgb_array\")\n",
        "env = rl.RenderFrame(env, \"./output\")\n",
        "\n",
        "observation, info = env.reset()\n",
        "score = 0\n",
        "\n",
        "while True:\n",
        "  action = env.action_space.sample()\n",
        "  observation, reward, terminated, truncated, info = env.step(action)\n",
        "  score += reward\n",
        "\n",
        "  if terminated:\n",
        "    print(\"Score : \", score)\n",
        "    break\n",
        "\n",
        "env.play()"
      ],
      "metadata": {
        "colab": {
          "base_uri": "https://localhost:8080/",
          "height": 598
        },
        "id": "zH7RNXMC3dyk",
        "outputId": "21570118-f867-4f41-eee7-522a99063739"
      },
      "execution_count": null,
      "outputs": [
        {
          "output_type": "stream",
          "name": "stdout",
          "text": [
            "Score :  13.0\n",
            "Moviepy - Building video temp-{start}.mp4.\n",
            "Moviepy - Writing video temp-{start}.mp4\n",
            "\n"
          ]
        },
        {
          "output_type": "stream",
          "name": "stderr",
          "text": [
            "\rt:   0%|          | 0/15 [00:00<?, ?it/s, now=None]WARNING:py.warnings:/usr/local/lib/python3.10/dist-packages/moviepy/video/io/ffmpeg_reader.py:123: UserWarning: Warning: in file ./output/1715682735.4263012.mp4, 720000 bytes wanted but 0 bytes read,at frame 14/15, at time 0.47/0.47 sec. Using the last valid frame instead.\n",
            "  warnings.warn(\"Warning: in file %s, \"%(self.filename)+\n",
            "\n",
            "                                                   "
          ]
        },
        {
          "output_type": "stream",
          "name": "stdout",
          "text": [
            "Moviepy - Done !\n",
            "Moviepy - video ready temp-{start}.mp4\n"
          ]
        },
        {
          "output_type": "stream",
          "name": "stderr",
          "text": [
            "\r"
          ]
        },
        {
          "output_type": "display_data",
          "data": {
            "text/plain": [
              "<IPython.core.display.Video object>"
            ],
            "text/html": [
              "<video controls  >\n",
              " <source src=\"data:video/mp4;base64,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\" type=\"video/mp4\">\n",
              " Your browser does not support the video tag.\n",
              " </video>"
            ]
          },
          "metadata": {}
        }
      ]
    },
    {
      "cell_type": "markdown",
      "source": [
        "## Define Classes\n",
        "\n",
        "- `ReplayBuffer`: transition buffer for experience replay\n",
        "- `Qnet`: DQN Network Structure\n",
        "\n",
        "\n",
        "## ReplayBuffer\n",
        "\n",
        "Sample random `n` transitions from the buffer. Transition here means $(s, a, r, s')$.\n",
        "\n",
        "For future implementation, I'll add `done_mask`, which will be `True` if episode dones.\n",
        "\n",
        "Methods\n",
        "\n",
        "- `init` / `put` / `sample` / `size`"
      ],
      "metadata": {
        "id": "VYBhZ6405dd2"
      }
    },
    {
      "cell_type": "code",
      "source": [
        "class ReplayBuffer():\n",
        "  def __init__(self):\n",
        "    self.buffer = collections.deque(maxlen=buffer_limit)\n",
        "\n",
        "  def put(self, transition):\n",
        "    self.buffer.append(transition)\n",
        "\n",
        "  def sample(self, n):\n",
        "    mini_batch = random.sample(self.buffer, n)\n",
        "    s_list, a_list, r_list, s_prime_list, dm_list = [], [], [], [], []\n",
        "\n",
        "    for transition in mini_batch:\n",
        "      s, a, r, s_p, dm = transition\n",
        "      s_list.append(s)\n",
        "      # action (0 or 1) and reward (+1 or 0) are scalar, so wrap it into list with []\n",
        "      a_list.append([a])\n",
        "      r_list.append([r])\n",
        "      s_prime_list.append(s_p)\n",
        "      dm_list.append([dm])\n",
        "\n",
        "    return torch.tensor(s_list, dtype=torch.float), torch.tensor(a_list), \\\n",
        "           torch.tensor(r_list), torch.tensor(s_prime_list, dtype=torch.float), \\\n",
        "           torch.tensor(dm_list)\n",
        "\n",
        "  def size(self):\n",
        "    return len(self.buffer)"
      ],
      "metadata": {
        "id": "NTuez2rp3qa-"
      },
      "execution_count": null,
      "outputs": []
    },
    {
      "cell_type": "markdown",
      "source": [
        "## Qnet\n",
        "\n",
        "- input: 4 length tensor\n",
        "- layer structure: (4 * 128) (128 * 128) (128 * 2)\n",
        "- **Caution** final layer doesn't have activation func\n",
        "- `sample_action` method: epsilon-greedy policy accoring to network output"
      ],
      "metadata": {
        "id": "6ePHuB5-6oVx"
      }
    },
    {
      "cell_type": "code",
      "source": [
        "class Qnet(nn.Module):\n",
        "  def __init__(self):\n",
        "    super(Qnet, self).__init__()\n",
        "    self.fc1 = nn.Linear(4, 128)\n",
        "    self.fc2 = nn.Linear(128, 128)\n",
        "    self.fc3 = nn.Linear(128, 2)\n",
        "\n",
        "  def forward(self, x):\n",
        "    x1 = F.relu(self.fc1(x))\n",
        "    x2 = F.relu(self.fc2(x1))\n",
        "    x3 = self.fc3(x2)\n",
        "    return x3\n",
        "\n",
        "  def sample_action(self, obs, epsilon):\n",
        "    out = self.forward(obs)\n",
        "    coin = random.random()\n",
        "\n",
        "    if coin < epsilon:\n",
        "      return random.randint(0, 1)\n",
        "    else:\n",
        "      return out.argmax().item()"
      ],
      "metadata": {
        "id": "dD1R8Aff7gLX"
      },
      "execution_count": null,
      "outputs": []
    },
    {
      "cell_type": "markdown",
      "source": [
        "## Training Helper Func\n",
        "\n",
        "Below is Bellman Func for Q-Learning $Q = Q + R_{t+1} + Q_{target}(S', A') - Q(S,A) $\n",
        "\n",
        "➾ Error will be difference between $Q_{target}(S', A')$ and $Q(S,A)$\n",
        "\n",
        "### Pseudo Code\n",
        "\n",
        "1. sample from `ReplayBuffer`\n",
        "2. Pass S into Qnet and get Qnet Value\n",
        "3. Pass S' into Qtarget and get max Qtarget Value\n",
        "4. Calculate TD target\n",
        "5. Get error between TD Target and Qnet Value (use `F.smooth_l1_loss`)\n",
        "6. run `zero_grad` and `step`"
      ],
      "metadata": {
        "id": "6ObHiiYs8qQI"
      }
    },
    {
      "cell_type": "code",
      "source": [
        "def train(q, q_target, memory, optimizer):\n",
        "  for i in range(10):\n",
        "    s, a, r, s_p, dm = memory.sample(batch_size)\n",
        "\n",
        "    q_out = q(s)\n",
        "    q_a = q_out.gather(1, a)\n",
        "    max_q_p = q_target(s_p).max(1)[0].unsqueeze(1)\n",
        "    target = r + gamma * max_q_p * dm\n",
        "\n",
        "    loss = F.smooth_l1_loss(q_a, target)\n",
        "\n",
        "    optimizer.zero_grad()\n",
        "    loss.backward()\n",
        "    optimizer.step()"
      ],
      "metadata": {
        "id": "ph7KGHR28uQG"
      },
      "execution_count": null,
      "outputs": []
    },
    {
      "cell_type": "markdown",
      "source": [
        "## Write Main Funciton\n",
        "\n",
        "- define variables"
      ],
      "metadata": {
        "id": "OxV4Z3jcB8fZ"
      }
    },
    {
      "cell_type": "code",
      "source": [
        "env = gym.make('CartPole-v1')\n",
        "q = Qnet()\n",
        "q_target = Qnet()\n",
        "memory = ReplayBuffer()\n",
        "\n",
        "optimizer = optim.Adam(q.parameters(), lr=learning_rate)\n",
        "target_update_interval = 20\n",
        "print_interval = 1000\n",
        "epoch = 10000"
      ],
      "metadata": {
        "id": "wdzTpYXxHNv3"
      },
      "execution_count": null,
      "outputs": []
    },
    {
      "cell_type": "markdown",
      "source": [
        "* $Q_{target}$ must be static during learning step. You can handle it through `load_state_dict`"
      ],
      "metadata": {
        "id": "N7YOVCuqHWvn"
      }
    },
    {
      "cell_type": "code",
      "source": [
        "q_target.load_state_dict(q.state_dict())"
      ],
      "metadata": {
        "colab": {
          "base_uri": "https://localhost:8080/"
        },
        "id": "K5V3NffhHXWU",
        "outputId": "9a43bce4-41f4-4228-9526-1357c7bf8a4b"
      },
      "execution_count": null,
      "outputs": [
        {
          "output_type": "execute_result",
          "data": {
            "text/plain": [
              "<All keys matched successfully>"
            ]
          },
          "metadata": {},
          "execution_count": 9
        }
      ]
    },
    {
      "cell_type": "markdown",
      "source": [
        "## Run train loop\n",
        "\n",
        "- get decayed epsilon every time\n",
        "- run episode\n",
        "- during episode, acquire action according to Qnet forwarding (`sample_action` method)\n",
        "- memory update\n",
        "- if enought transisions stored into memory, train  Qnet\n",
        "- print short-term results"
      ],
      "metadata": {
        "id": "4SLoGJ8OYVNf"
      }
    },
    {
      "cell_type": "code",
      "source": [
        "for n_epi in range(epoch):\n",
        "  epsilon = max(0.01, 0.08 - 0.01*(n_epi/200)) #Linear annealing from 8% to 1%\n",
        "  s, _ = env.reset()\n",
        "  done = False\n",
        "  score = 0.0\n",
        "\n",
        "  while not done:\n",
        "    a = q.sample_action(torch.from_numpy(s).float(), epsilon)\n",
        "    s_prime, r, done, truncated, info = env.step(a)\n",
        "    done_mask = 0.0 if done else 1.0\n",
        "    memory.put((s,a,r/100.0,s_prime, done_mask))\n",
        "    s = s_prime\n",
        "\n",
        "    score += r\n",
        "    if done or truncated:\n",
        "      break\n",
        "\n",
        "  if memory.size() > 2000:\n",
        "    train(q, q_target, memory, optimizer)\n",
        "\n",
        "  if n_epi % target_update_interval == 0:\n",
        "    q_target.load_state_dict(q.state_dict())\n",
        "\n",
        "  if n_epi % print_interval == 0 and n_epi != 0:\n",
        "    print(\"n_episode :{}, score : {:.1f}, n_buffer : {}, eps : {:.1f}%\".format(\n",
        "                                                    n_epi, score, memory.size(), epsilon*100))\n",
        "\n",
        "env.close()"
      ],
      "metadata": {
        "colab": {
          "base_uri": "https://localhost:8080/"
        },
        "id": "2wRxVwORBuEb",
        "outputId": "126c4e5e-53d2-4d7b-f396-261aa4eabc44"
      },
      "execution_count": null,
      "outputs": [
        {
          "output_type": "stream",
          "name": "stderr",
          "text": [
            "WARNING:py.warnings:<ipython-input-5-3bb1231e889c>:20: UserWarning: Creating a tensor from a list of numpy.ndarrays is extremely slow. Please consider converting the list to a single numpy.ndarray with numpy.array() before converting to a tensor. (Triggered internally at ../torch/csrc/utils/tensor_new.cpp:275.)\n",
            "  return torch.tensor(s_list, dtype=torch.float), torch.tensor(a_list), \\\n",
            "\n"
          ]
        },
        {
          "output_type": "stream",
          "name": "stdout",
          "text": [
            "n_episode :1000, score : 135.0, n_buffer : 50000, eps : 3.0%\n",
            "n_episode :2000, score : 500.0, n_buffer : 50000, eps : 1.0%\n",
            "n_episode :3000, score : 500.0, n_buffer : 50000, eps : 1.0%\n",
            "n_episode :4000, score : 500.0, n_buffer : 50000, eps : 1.0%\n",
            "n_episode :5000, score : 500.0, n_buffer : 50000, eps : 1.0%\n",
            "n_episode :6000, score : 500.0, n_buffer : 50000, eps : 1.0%\n",
            "n_episode :7000, score : 500.0, n_buffer : 50000, eps : 1.0%\n",
            "n_episode :8000, score : 500.0, n_buffer : 50000, eps : 1.0%\n",
            "n_episode :9000, score : 500.0, n_buffer : 50000, eps : 1.0%\n"
          ]
        }
      ]
    },
    {
      "cell_type": "markdown",
      "source": [
        "##  Test Qnet with Rendered Animation\n",
        "\n",
        "[test video](https://github.com/kimsooyoung/robotics_python/assets/12381733/653d107f-cbdd-4538-bac9-e3c625676a43)"
      ],
      "metadata": {
        "id": "3bI81YorYKN9"
      }
    },
    {
      "cell_type": "code",
      "source": [
        "import renderlab as rl\n",
        "\n",
        "env = gym.make(\"CartPole-v1\", render_mode = \"rgb_array\")\n",
        "env = rl.RenderFrame(env, \"./output\")\n",
        "s, info = env.reset()\n",
        "\n",
        "while True:\n",
        "  a = q.sample_action(torch.from_numpy(s).float(), 0.01)\n",
        "  s_prime, r, done, truncated, info = env.step(a)\n",
        "  s = s_prime\n",
        "  if done or truncated:\n",
        "    break\n",
        "\n",
        "env.play()"
      ],
      "metadata": {
        "colab": {
          "base_uri": "https://localhost:8080/",
          "height": 508
        },
        "id": "AeppQYi7CBwV",
        "outputId": "e846d22c-6cd5-4fea-8fa2-3d96ebe0aa3d"
      },
      "execution_count": null,
      "outputs": [
        {
          "output_type": "stream",
          "name": "stdout",
          "text": [
            "Moviepy - Building video temp-{start}.mp4.\n",
            "Moviepy - Writing video temp-{start}.mp4\n",
            "\n"
          ]
        },
        {
          "output_type": "stream",
          "name": "stderr",
          "text": []
        },
        {
          "output_type": "stream",
          "name": "stdout",
          "text": [
            "Moviepy - Done !\n",
            "Moviepy - video ready temp-{start}.mp4\n"
          ]
        },
        {
          "output_type": "display_data",
          "data": {
            "text/plain": [
              "<IPython.core.display.Video object>"
            ],
            "text/html": [
              "<video controls  >\n",
              " <source src=\"data:video/mp4;base64,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\" type=\"video/mp4\">\n",
              " Your browser does not support the video tag.\n",
              " </video>"
            ]
          },
          "metadata": {}
        }
      ]
    },
    {
      "cell_type": "markdown",
      "source": [
        "![](https://github.com/kimsooyoung/robotics_python/assets/12381733/653d107f-cbdd-4538-bac9-e3c625676a43\n",
        ")"
      ],
      "metadata": {
        "id": "Sb02stUZIJRY"
      }
    }
  ]
}