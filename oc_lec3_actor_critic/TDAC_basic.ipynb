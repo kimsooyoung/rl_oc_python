{
  "nbformat": 4,
  "nbformat_minor": 0,
  "metadata": {
    "colab": {
      "provenance": [],
      "gpuType": "T4",
      "authorship_tag": "ABX9TyNg3maN6t8vlVVSwPUiji3q",
      "include_colab_link": true
    },
    "kernelspec": {
      "name": "python3",
      "display_name": "Python 3"
    },
    "language_info": {
      "name": "python"
    },
    "accelerator": "GPU"
  },
  "cells": [
    {
      "cell_type": "markdown",
      "metadata": {
        "id": "view-in-github",
        "colab_type": "text"
      },
      "source": [
        "<a href=\"https://colab.research.google.com/github/kimsooyoung/rl_oc_python/blob/main/oc_lec3_actor_critic/TDAC_basic.ipynb\" target=\"_parent\"><img src=\"https://colab.research.google.com/assets/colab-badge.svg\" alt=\"Open In Colab\"/></a>"
      ]
    },
    {
      "cell_type": "markdown",
      "source": [
        "## Install Requirements"
      ],
      "metadata": {
        "id": "2c-21nKRhuIH"
      }
    },
    {
      "cell_type": "code",
      "source": [
        "!apt-get install -y xvfb python-opengl ffmpeg > /dev/null 2>&1\n",
        "!pip install swig\n",
        "!pip install renderlab\n",
        "!pip install gymnasium\n",
        "!pip install gymnasium[box2d]"
      ],
      "metadata": {
        "colab": {
          "base_uri": "https://localhost:8080/"
        },
        "id": "2Lb1dzFOhuZZ",
        "outputId": "35d46db6-e2f3-46de-925f-69a8c5c842a7"
      },
      "execution_count": 1,
      "outputs": [
        {
          "output_type": "stream",
          "name": "stdout",
          "text": [
            "Collecting swig\n",
            "  Downloading swig-4.2.1-py2.py3-none-manylinux_2_5_x86_64.manylinux1_x86_64.whl (1.9 MB)\n",
            "\u001b[2K     \u001b[90m━━━━━━━━━━━━━━━━━━━━━━━━━━━━━━━━━━━━━━━━\u001b[0m \u001b[32m1.9/1.9 MB\u001b[0m \u001b[31m6.6 MB/s\u001b[0m eta \u001b[36m0:00:00\u001b[0m\n",
            "\u001b[?25hInstalling collected packages: swig\n",
            "Successfully installed swig-4.2.1\n",
            "Collecting renderlab\n",
            "  Downloading renderlab-0.1.20230421184216-py3-none-any.whl (4.0 kB)\n",
            "Requirement already satisfied: moviepy in /usr/local/lib/python3.10/dist-packages (from renderlab) (1.0.3)\n",
            "Collecting gymnasium (from renderlab)\n",
            "  Downloading gymnasium-0.29.1-py3-none-any.whl (953 kB)\n",
            "\u001b[2K     \u001b[90m━━━━━━━━━━━━━━━━━━━━━━━━━━━━━━━━━━━━━━━━\u001b[0m \u001b[32m953.9/953.9 kB\u001b[0m \u001b[31m7.2 MB/s\u001b[0m eta \u001b[36m0:00:00\u001b[0m\n",
            "\u001b[?25hRequirement already satisfied: numpy>=1.21.0 in /usr/local/lib/python3.10/dist-packages (from gymnasium->renderlab) (1.25.2)\n",
            "Requirement already satisfied: cloudpickle>=1.2.0 in /usr/local/lib/python3.10/dist-packages (from gymnasium->renderlab) (2.2.1)\n",
            "Requirement already satisfied: typing-extensions>=4.3.0 in /usr/local/lib/python3.10/dist-packages (from gymnasium->renderlab) (4.11.0)\n",
            "Collecting farama-notifications>=0.0.1 (from gymnasium->renderlab)\n",
            "  Downloading Farama_Notifications-0.0.4-py3-none-any.whl (2.5 kB)\n",
            "Requirement already satisfied: decorator<5.0,>=4.0.2 in /usr/local/lib/python3.10/dist-packages (from moviepy->renderlab) (4.4.2)\n",
            "Requirement already satisfied: tqdm<5.0,>=4.11.2 in /usr/local/lib/python3.10/dist-packages (from moviepy->renderlab) (4.66.4)\n",
            "Requirement already satisfied: requests<3.0,>=2.8.1 in /usr/local/lib/python3.10/dist-packages (from moviepy->renderlab) (2.31.0)\n",
            "Requirement already satisfied: proglog<=1.0.0 in /usr/local/lib/python3.10/dist-packages (from moviepy->renderlab) (0.1.10)\n",
            "Requirement already satisfied: imageio<3.0,>=2.5 in /usr/local/lib/python3.10/dist-packages (from moviepy->renderlab) (2.31.6)\n",
            "Requirement already satisfied: imageio-ffmpeg>=0.2.0 in /usr/local/lib/python3.10/dist-packages (from moviepy->renderlab) (0.4.9)\n",
            "Requirement already satisfied: pillow<10.1.0,>=8.3.2 in /usr/local/lib/python3.10/dist-packages (from imageio<3.0,>=2.5->moviepy->renderlab) (9.4.0)\n",
            "Requirement already satisfied: setuptools in /usr/local/lib/python3.10/dist-packages (from imageio-ffmpeg>=0.2.0->moviepy->renderlab) (67.7.2)\n",
            "Requirement already satisfied: charset-normalizer<4,>=2 in /usr/local/lib/python3.10/dist-packages (from requests<3.0,>=2.8.1->moviepy->renderlab) (3.3.2)\n",
            "Requirement already satisfied: idna<4,>=2.5 in /usr/local/lib/python3.10/dist-packages (from requests<3.0,>=2.8.1->moviepy->renderlab) (3.7)\n",
            "Requirement already satisfied: urllib3<3,>=1.21.1 in /usr/local/lib/python3.10/dist-packages (from requests<3.0,>=2.8.1->moviepy->renderlab) (2.0.7)\n",
            "Requirement already satisfied: certifi>=2017.4.17 in /usr/local/lib/python3.10/dist-packages (from requests<3.0,>=2.8.1->moviepy->renderlab) (2024.2.2)\n",
            "Installing collected packages: farama-notifications, gymnasium, renderlab\n",
            "Successfully installed farama-notifications-0.0.4 gymnasium-0.29.1 renderlab-0.1.20230421184216\n",
            "Requirement already satisfied: gymnasium in /usr/local/lib/python3.10/dist-packages (0.29.1)\n",
            "Requirement already satisfied: numpy>=1.21.0 in /usr/local/lib/python3.10/dist-packages (from gymnasium) (1.25.2)\n",
            "Requirement already satisfied: cloudpickle>=1.2.0 in /usr/local/lib/python3.10/dist-packages (from gymnasium) (2.2.1)\n",
            "Requirement already satisfied: typing-extensions>=4.3.0 in /usr/local/lib/python3.10/dist-packages (from gymnasium) (4.11.0)\n",
            "Requirement already satisfied: farama-notifications>=0.0.1 in /usr/local/lib/python3.10/dist-packages (from gymnasium) (0.0.4)\n",
            "Requirement already satisfied: gymnasium[box2d] in /usr/local/lib/python3.10/dist-packages (0.29.1)\n",
            "Requirement already satisfied: numpy>=1.21.0 in /usr/local/lib/python3.10/dist-packages (from gymnasium[box2d]) (1.25.2)\n",
            "Requirement already satisfied: cloudpickle>=1.2.0 in /usr/local/lib/python3.10/dist-packages (from gymnasium[box2d]) (2.2.1)\n",
            "Requirement already satisfied: typing-extensions>=4.3.0 in /usr/local/lib/python3.10/dist-packages (from gymnasium[box2d]) (4.11.0)\n",
            "Requirement already satisfied: farama-notifications>=0.0.1 in /usr/local/lib/python3.10/dist-packages (from gymnasium[box2d]) (0.0.4)\n",
            "Collecting box2d-py==2.3.5 (from gymnasium[box2d])\n",
            "  Downloading box2d-py-2.3.5.tar.gz (374 kB)\n",
            "\u001b[2K     \u001b[90m━━━━━━━━━━━━━━━━━━━━━━━━━━━━━━━━━━━━━━━━\u001b[0m \u001b[32m374.4/374.4 kB\u001b[0m \u001b[31m7.5 MB/s\u001b[0m eta \u001b[36m0:00:00\u001b[0m\n",
            "\u001b[?25h  Preparing metadata (setup.py) ... \u001b[?25l\u001b[?25hdone\n",
            "Requirement already satisfied: pygame>=2.1.3 in /usr/local/lib/python3.10/dist-packages (from gymnasium[box2d]) (2.5.2)\n",
            "Requirement already satisfied: swig==4.* in /usr/local/lib/python3.10/dist-packages (from gymnasium[box2d]) (4.2.1)\n",
            "Building wheels for collected packages: box2d-py\n",
            "  Building wheel for box2d-py (setup.py) ... \u001b[?25l\u001b[?25hdone\n",
            "  Created wheel for box2d-py: filename=box2d_py-2.3.5-cp310-cp310-linux_x86_64.whl size=2376134 sha256=5bb0849210335422dcf8421d28b7077c02d9eb35598f3b5b5f1baa29bb21bd3c\n",
            "  Stored in directory: /root/.cache/pip/wheels/db/8f/6a/eaaadf056fba10a98d986f6dce954e6201ba3126926fc5ad9e\n",
            "Successfully built box2d-py\n",
            "Installing collected packages: box2d-py\n",
            "Successfully installed box2d-py-2.3.5\n"
          ]
        }
      ]
    },
    {
      "cell_type": "markdown",
      "source": [
        "### Import the Necessary Packages"
      ],
      "metadata": {
        "id": "uoLq2-cKhxpo"
      }
    },
    {
      "cell_type": "code",
      "source": [
        "import gymnasium as gym\n",
        "import collections\n",
        "import random\n",
        "\n",
        "import torch\n",
        "import torch.nn as nn\n",
        "import torch.nn.functional as F\n",
        "import torch.optim as optim\n",
        "from torch.distributions import Categorical"
      ],
      "metadata": {
        "id": "4ab9_6_Nhv8v"
      },
      "execution_count": 2,
      "outputs": []
    },
    {
      "cell_type": "markdown",
      "source": [
        "## Render Test"
      ],
      "metadata": {
        "id": "BRwi1A5-8brD"
      }
    },
    {
      "cell_type": "code",
      "source": [
        "import renderlab as rl\n",
        "\n",
        "env = gym.make(\"CartPole-v1\", render_mode = \"rgb_array\")\n",
        "env = rl.RenderFrame(env, \"./output\")\n",
        "\n",
        "observation, info = env.reset()\n",
        "score = 0\n",
        "\n",
        "while True:\n",
        "  action = env.action_space.sample()\n",
        "  observation, reward, terminated, truncated, info = env.step(action)\n",
        "  score += reward\n",
        "\n",
        "  if terminated:\n",
        "    print(\"Score : \", score)\n",
        "    break\n",
        "\n",
        "env.play()"
      ],
      "metadata": {
        "colab": {
          "base_uri": "https://localhost:8080/",
          "height": 529
        },
        "id": "5b5Xdir4hyww",
        "outputId": "f4d6d91b-21bc-40c8-c630-bfbe0540f8f1"
      },
      "execution_count": 14,
      "outputs": [
        {
          "output_type": "stream",
          "name": "stdout",
          "text": [
            "Score :  9.0\n",
            "Moviepy - Building video temp-{start}.mp4.\n",
            "Moviepy - Writing video temp-{start}.mp4\n",
            "\n"
          ]
        },
        {
          "output_type": "stream",
          "name": "stderr",
          "text": [
            "                                                   "
          ]
        },
        {
          "output_type": "stream",
          "name": "stdout",
          "text": [
            "Moviepy - Done !\n",
            "Moviepy - video ready temp-{start}.mp4\n"
          ]
        },
        {
          "output_type": "stream",
          "name": "stderr",
          "text": [
            "\r"
          ]
        },
        {
          "output_type": "display_data",
          "data": {
            "text/plain": [
              "<IPython.core.display.Video object>"
            ],
            "text/html": [
              "<video controls  >\n",
              " <source src=\"data:video/mp4;base64,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\" type=\"video/mp4\">\n",
              " Your browser does not support the video tag.\n",
              " </video>"
            ]
          },
          "metadata": {}
        }
      ]
    },
    {
      "cell_type": "markdown",
      "source": [
        "## `torch.gather()` example"
      ],
      "metadata": {
        "id": "IjDmluHI8tmd"
      }
    },
    {
      "cell_type": "code",
      "source": [
        "matrix = torch.range(0, 99).reshape(10,10)\n",
        "indices = torch.tensor([0,1,2,3,4,5,6,7,8,9]).unsqueeze(axis=-1)\n",
        "matrix, indices"
      ],
      "metadata": {
        "colab": {
          "base_uri": "https://localhost:8080/"
        },
        "id": "3FW4OKm18dI6",
        "outputId": "27f0637c-6637-4327-bb63-269bb1325d15"
      },
      "execution_count": 4,
      "outputs": [
        {
          "output_type": "stream",
          "name": "stderr",
          "text": [
            "WARNING:py.warnings:<ipython-input-4-5df93b5c3bc2>:1: UserWarning: torch.range is deprecated and will be removed in a future release because its behavior is inconsistent with Python's range builtin. Instead, use torch.arange, which produces values in [start, end).\n",
            "  matrix = torch.range(0, 99).reshape(10,10)\n",
            "\n"
          ]
        },
        {
          "output_type": "execute_result",
          "data": {
            "text/plain": [
              "(tensor([[ 0.,  1.,  2.,  3.,  4.,  5.,  6.,  7.,  8.,  9.],\n",
              "         [10., 11., 12., 13., 14., 15., 16., 17., 18., 19.],\n",
              "         [20., 21., 22., 23., 24., 25., 26., 27., 28., 29.],\n",
              "         [30., 31., 32., 33., 34., 35., 36., 37., 38., 39.],\n",
              "         [40., 41., 42., 43., 44., 45., 46., 47., 48., 49.],\n",
              "         [50., 51., 52., 53., 54., 55., 56., 57., 58., 59.],\n",
              "         [60., 61., 62., 63., 64., 65., 66., 67., 68., 69.],\n",
              "         [70., 71., 72., 73., 74., 75., 76., 77., 78., 79.],\n",
              "         [80., 81., 82., 83., 84., 85., 86., 87., 88., 89.],\n",
              "         [90., 91., 92., 93., 94., 95., 96., 97., 98., 99.]]),\n",
              " tensor([[0],\n",
              "         [1],\n",
              "         [2],\n",
              "         [3],\n",
              "         [4],\n",
              "         [5],\n",
              "         [6],\n",
              "         [7],\n",
              "         [8],\n",
              "         [9]]))"
            ]
          },
          "metadata": {},
          "execution_count": 4
        }
      ]
    },
    {
      "cell_type": "code",
      "source": [
        "torch.gather(matrix, 1, indices)"
      ],
      "metadata": {
        "colab": {
          "base_uri": "https://localhost:8080/"
        },
        "id": "YsmKE7LY838o",
        "outputId": "1a220f3a-02f4-4474-ce59-057224507c6d"
      },
      "execution_count": 5,
      "outputs": [
        {
          "output_type": "execute_result",
          "data": {
            "text/plain": [
              "tensor([[ 0.],\n",
              "        [11.],\n",
              "        [22.],\n",
              "        [33.],\n",
              "        [44.],\n",
              "        [55.],\n",
              "        [66.],\n",
              "        [77.],\n",
              "        [88.],\n",
              "        [99.]])"
            ]
          },
          "metadata": {},
          "execution_count": 5
        }
      ]
    },
    {
      "cell_type": "markdown",
      "source": [
        "## Initialize Hyper Params"
      ],
      "metadata": {
        "id": "19gODoil9CRD"
      }
    },
    {
      "cell_type": "code",
      "source": [
        "learning_rate = 0.0002\n",
        "gamma         = 0.98\n",
        "n_rollout     = 10"
      ],
      "metadata": {
        "id": "p73Y5z4J8-A_"
      },
      "execution_count": 10,
      "outputs": []
    },
    {
      "cell_type": "markdown",
      "source": [
        "## Define Actor-Critic Class\n",
        "\n",
        "- input: 4 length tensor\n",
        "- Actor layer structure: (4 * 256) = ReLU > (256 * 2) = softmax>\n",
        "- Critic layer structure: (4 * 256) = ReLU > (256 * 1)\n",
        "\n",
        "- `put_data` method: append episodes ($S, A, R, S', Done$) into class variable.\n",
        "- `make_batch` method : return torch type transitions and clear buffer\n",
        "- `train_net` method : optimize network with policy gradient loss + Q-learning loss\n",
        "\n",
        "$\\quad \\quad J = - G * log \\pi(s, a) + E[(R + rV(s) - V(s'))^2]$\n"
      ],
      "metadata": {
        "id": "jmIl1mWQ9MF5"
      }
    },
    {
      "cell_type": "code",
      "source": [
        "class ActorCritic(nn.Module):\n",
        "\n",
        "  def __init__(self):\n",
        "    super(ActorCritic, self).__init__()\n",
        "    self.data = []\n",
        "\n",
        "    self.fc1 = nn.Linear(4, 256)\n",
        "    self.fc_pi = nn.Linear(256, 2)\n",
        "    self.fc_v = nn.Linear(256, 1)\n",
        "\n",
        "    self.optimizer = optim.Adam(self.parameters(), lr=learning_rate)\n",
        "\n",
        "  def pi(self, state, softmax_dim=0):\n",
        "    x1 = F.relu(self.fc1(state))\n",
        "    x2 = F.softmax(self.fc_pi(x1), dim=softmax_dim)\n",
        "    return x2\n",
        "\n",
        "  def v(self, state):\n",
        "    x1 = F.relu(self.fc1(state))\n",
        "    x2 = self.fc_v(x1)\n",
        "    return x2\n",
        "\n",
        "  def put_data(self, transition):\n",
        "    self.data.append(transition)\n",
        "\n",
        "  def make_batch(self):\n",
        "    s_list, a_list, r_list, sp_list, done_list = [],[],[],[],[]\n",
        "\n",
        "    for transition in self.data:\n",
        "      s, a, r, sp, done = transition\n",
        "      s_list.append(s)\n",
        "      a_list.append([a])\n",
        "      r_list.append([r/100.0])\n",
        "      sp_list.append(sp)\n",
        "      done = 0.0 if done else 1.0\n",
        "      done_list.append([done])\n",
        "\n",
        "    s_batch, a_batch, r_batch, sp_batch, done_batch = \\\n",
        "      torch.tensor(s_list, dtype=torch.float), torch.tensor(a_list), \\\n",
        "      torch.tensor(r_list,  dtype=torch.float), torch.tensor(sp_list, dtype=torch.float), \\\n",
        "      torch.tensor(done_list,  dtype=torch.float)\n",
        "\n",
        "    self.data = []\n",
        "\n",
        "    return s_batch, a_batch, r_batch, sp_batch, done_batch\n",
        "\n",
        "  def train_net(self):\n",
        "    s, a, r, sp, done = self.make_batch()\n",
        "\n",
        "    td_target = r + gamma * self.v(sp) * done\n",
        "    delta = td_target - self.v(s)\n",
        "\n",
        "    prob_a = self.pi(s, softmax_dim=1).gather(1, a)\n",
        "\n",
        "    loss = -torch.log(prob_a) * delta.detach() + F.smooth_l1_loss(self.v(s), td_target.detach())\n",
        "\n",
        "    self.optimizer.zero_grad()\n",
        "    loss.mean().backward()\n",
        "    self.optimizer.step()"
      ],
      "metadata": {
        "id": "IR7ylvhn9IeQ"
      },
      "execution_count": 11,
      "outputs": []
    },
    {
      "cell_type": "markdown",
      "source": [
        "## Main loop\n",
        "\n",
        "- create environments, Actor-Critic Model, print_interval, and reset score value\n",
        "- for each train epochs\n",
        "  - reset environment\n",
        "  - for each episodes loop\n",
        "    - rollout 10 times\n",
        "      - obtain policy action probability and actual action value\n",
        "      - step environment\n",
        "      - gather transitions $(S, A, R, S', Done)$\n",
        "      - put transition into dataset\n",
        "      - update state, update score\n",
        "    - train network\n",
        "  - print progress\n",
        "- close env"
      ],
      "metadata": {
        "id": "_9GcX4a5Cdm8"
      }
    },
    {
      "cell_type": "code",
      "source": [
        "env = gym.make(\"CartPole-v1\")\n",
        "ac_nn = ActorCritic()\n",
        "\n",
        "score = 0.0\n",
        "print_interval = 200\n",
        "\n",
        "for epi in range(2000):\n",
        "  s, _ = env.reset()\n",
        "  done = False\n",
        "\n",
        "  while not done:\n",
        "    for i in range(n_rollout):\n",
        "      prob = ac_nn.pi( torch.from_numpy(s).float() )\n",
        "      m = Categorical(prob)\n",
        "      a = m.sample().item()\n",
        "      sp, r, done, truncated, info = env.step(a)\n",
        "      ac_nn.put_data( (s, a, r, sp, done) )\n",
        "\n",
        "      s = sp\n",
        "      score += r\n",
        "\n",
        "      if done or truncated:\n",
        "        break\n",
        "\n",
        "    ac_nn.train_net()\n",
        "\n",
        "  if (epi % print_interval == 0) and (epi != 0):\n",
        "    print(f\"epi: {epi} / avg_score: {score / print_interval}\")\n",
        "    score = 0.0\n",
        "\n",
        "env.close()"
      ],
      "metadata": {
        "colab": {
          "base_uri": "https://localhost:8080/"
        },
        "id": "MNl6KCLiAuCh",
        "outputId": "8bb16e5c-bca0-430d-8b1d-d5fa4fb4dec0"
      },
      "execution_count": 12,
      "outputs": [
        {
          "output_type": "stream",
          "name": "stdout",
          "text": [
            "epi: 200 / avg_score: 19.5\n",
            "epi: 400 / avg_score: 62.315\n",
            "epi: 600 / avg_score: 246.89\n",
            "epi: 800 / avg_score: 262.445\n",
            "epi: 1000 / avg_score: 154.57\n",
            "epi: 1200 / avg_score: 165.89\n",
            "epi: 1400 / avg_score: 170.94\n",
            "epi: 1600 / avg_score: 116.515\n",
            "epi: 1800 / avg_score: 297.21\n"
          ]
        }
      ]
    },
    {
      "cell_type": "code",
      "source": [
        "env = gym.make(\"CartPole-v1\", render_mode = \"rgb_array\")\n",
        "env = rl.RenderFrame(env, \"./output\")\n",
        "s, info = env.reset()\n",
        "done = False\n",
        "\n",
        "while not done:\n",
        "  prob = ac_nn.pi( torch.from_numpy(s).float() )\n",
        "  m = Categorical(prob)\n",
        "  a = m.sample().item()\n",
        "  sp, r, done, truncated, info = env.step(a)\n",
        "\n",
        "  s = sp\n",
        "  score += r\n",
        "\n",
        "  if done or truncated:\n",
        "    print(\"Score : \", score)\n",
        "    break\n",
        "\n",
        "env.play()"
      ],
      "metadata": {
        "id": "WtcvhoxGJCFS",
        "colab": {
          "base_uri": "https://localhost:8080/",
          "height": 529
        },
        "outputId": "19134ac7-854c-491d-ed92-3fc426231550"
      },
      "execution_count": 15,
      "outputs": [
        {
          "output_type": "stream",
          "name": "stdout",
          "text": [
            "Score :  156.0\n",
            "Moviepy - Building video temp-{start}.mp4.\n",
            "Moviepy - Writing video temp-{start}.mp4\n",
            "\n"
          ]
        },
        {
          "output_type": "stream",
          "name": "stderr",
          "text": []
        },
        {
          "output_type": "stream",
          "name": "stdout",
          "text": [
            "Moviepy - Done !\n",
            "Moviepy - video ready temp-{start}.mp4\n"
          ]
        },
        {
          "output_type": "display_data",
          "data": {
            "text/plain": [
              "<IPython.core.display.Video object>"
            ],
            "text/html": [
              "<video controls  >\n",
              " <source src=\"data:video/mp4;base64,AAAAIGZ0eXBpc29tAAACAGlzb21pc28yYXZjMW1wNDEAAAAIZnJlZQAALP1tZGF0AAACrgYF//+q3EXpvebZSLeWLNgg2SPu73gyNjQgLSBjb3JlIDE1OSByMjk5MSAxNzcxYjU1IC0gSC4yNjQvTVBFRy00IEFWQyBjb2RlYyAtIENvcHlsZWZ0IDIwMDMtMjAxOSAtIGh0dHA6Ly93d3cudmlkZW9sYW4ub3JnL3gyNjQuaHRtbCAtIG9wdGlvbnM6IGNhYmFjPTEgcmVmPTMgZGVibG9jaz0xOjA6MCBhbmFseXNlPTB4MzoweDExMyBtZT1oZXggc3VibWU9NyBwc3k9MSBwc3lfcmQ9MS4wMDowLjAwIG1peGVkX3JlZj0xIG1lX3JhbmdlPTE2IGNocm9tYV9tZT0xIHRyZWxsaXM9MSA4eDhkY3Q9MSBjcW09MCBkZWFkem9uZT0yMSwxMSBmYXN0X3Bza2lwPTEgY2hyb21hX3FwX29mZnNldD0tMiB0aHJlYWRzPTMgbG9va2FoZWFkX3RocmVhZHM9MSBzbGljZWRfdGhyZWFkcz0wIG5yPTAgZGVjaW1hdGU9MSBpbnRlcmxhY2VkPTAgYmx1cmF5X2NvbXBhdD0wIGNvbnN0cmFpbmVkX2ludHJhPTAgYmZyYW1lcz0zIGJfcHlyYW1pZD0yIGJfYWRhcHQ9MSBiX2JpYXM9MCBkaXJlY3Q9MSB3ZWlnaHRiPTEgb3Blbl9nb3A9MCB3ZWlnaHRwPTIga2V5aW50PTI1MCBrZXlpbnRfbWluPTI1IHNjZW5lY3V0PTQwIGludHJhX3JlZnJlc2g9MCByY19sb29rYWhlYWQ9NDAgcmM9Y3JmIG1idHJlZT0xIGNyZj0yMy4wIHFjb21wPTAuNjAgcXBtaW49MCBxcG1heD02OSBxcHN0ZXA9NCBpcF9yYXRpbz0xLjQwIGFxPTE6MS4wMACAAAACKGWIhAAv//7bW/MsrLF/xG1LHIV3eXLNTujKGdp5L1MwAAADAAADAAAaQFV+XsrZ0dc2TAAAAwIWAF6DPCjCvjqEhH2OqwuAr4HI+GS/qD0vEsC4aykTJBkhUsnSmEjcV/jVakwNlOZxS0CeSszgAf9/f8C//aCoyFXPCbVWMhvL0NORIyjbPAiBXVkwnEGaLzy+fOHvuZ7HjSTiEw88yomVu3+3FGvjJ4Slt3mf/tu1CHgBDSfmYjXPUzNWmatMEt0sWE7nmPAqOjFjqdNOhNNEtVJfhlGgzg8kyXNQPWuRO2IkafkcF7kT6RJb9jqvb2rYNgrbCvXwXQSIWMWruUFBT4xK0MxXSAJaM6N3dKun2nHzRhX0zl4EwBbE+yFuz0Z7i/O8a38+z06UZWdeSeEokminJMAADzK8tPiU4MqmQ7NkY6Ou0t4nolxZ/ViPFOWAqoB9DysupmjSC0ibDIR+DBqwaZwLKkDhFzY5wFALadoPqCBebg6Kky7V/a9oDy403y904ZJ7+bE7NzLLZbYniJfPLGI1m324OEfMaHbys4njVxYDDqVkZj6j/+wUmIc6E2585U2ePzdyq7uuwxhca5Vnoa7BLodJRZD49EBRnCY8hm8mTJSRMJBMLy0XurdAKj5LFYATkkj9YhfzqGZ1FxepieZF/Q2finxtsL//kJ6SiRuYd4bachMEzn551l+8EHF4Sdln3NmDeQZwAABgGAAAAwBIwQAAAI9BmiRsQv/+jLAAAEgKukYFRhfhx5njepew2uemqmHA/cxymSU0DJrX3cefQVnND6H/XgUrPdAh1wwD6mP+hiHgUOW4YSeWT3ceVqMoDZBXGzsCSl0/tSMeZloOC/qBsAX51w0S1xTWmVppLwUU6qKXhHzrYqRsHaxJSIVI38xJyK6Y54r/XXLfmrVSIp2qgAAAAChBnkJ4j/8AACTDF15xty5oA9qdY3jY0qOUqiXEHql1fQMe3pO1997hAAAAHAGeYXRG/wAAEVRJ+P3m50DzK+SudbzLg4EWp2AAAAAgAZ5jakb/AAAumMUlU3ZfQWWKrNX1sprUhTiPfTc0+KUAAABZQZpoSahBaJlMCF///oywAAAKTxnOLEAphjolw5xX6w3h4gCDistX1wZEExMSEI8Gi45xhlNOjFSsjaQCZpBDRuUy/BQucfcHbkA1kHY3CrHK4kRCARnev8EAAAAhQZ6GRREsfwAABUMxNKYgoleGJB3QtFEoi40/PD13eqVBAAAAEgGepXRG/wAAAwBYffEZfT5R2QAAAB4BnqdqRv8AAAaaQzU0irH0Z+8+IaAgnEKY6sM8PHQAAABZQZqsSahBbJlMCF///oywAABIBxuBfAde70ehzsaol/91Vt9ZUMsNtscszCuFpyQP5EhxE+UZz9y/jLP/qQ1PblxQOkovLsrQ2LUpXIaS0T2LmdVrOWAyslQAAAAVQZ7KRRUsfwAAAwHlyrGmA6CjdWG5AAAARAGe6XRG/wAABp5GgA5dKwkPVMjO8/DuqsUgx0C6mIGVoAMlJIjC2fal5W+uUiOPulWKRbtusBzAiZnMXOXLUqCQ3NE3AAAAEAGe62pG/wAAAwJb7UUA1IAAAABOQZrwSahBbJlMCF///oywAAADA6PPrGE9Gup5hrRFXOIgBo7lLDeHEYM/h9KNxwO4qT1vMx9iJUFSG/1II/Bl8QERqxTurGrwFA1okKhxAAAAHUGfDkUVLH8AAAUbYc4Kb+Uaq/KsBs0nOp/0/cAhAAAAHQGfLXRG/wAABkr2WEZngfil8128sxQiXQYpaJlJAAAAJgGfL2pG/wAALoBX1K0DyAKJhzGSg9tkwPbxR4xp8cG2VnVbCQdIAAAAWEGbNEmoQWyZTAhf//6MsAAASALPV3/SaSAIJI2iFMDpXTENelsxiImI1Y7RaBaOF47urNhPIPiodz+KGFgUXtIZs8GjRKAkdkVyKbvWKpqG6f2HLtV0UpgAAAApQZ9SRRUsfwAAJLHMD3CmQCPhVpDmCuh0Xl1hJ6i7D/0qM5uYT4Mwe4EAAAArAZ9xdEb/AAAufpd3USwg011ZnS8CJ/fa7dCel4/mxCYhGZ4fiNAG76u9ygAAADQBn3NqRv8AABFfZMMZ87LklO22gAKp+iRvGcQyxjsORJRkKyZxGr927PQCKtzLWafMPaUgAAAAQkGbeEmoQWyZTAhf//6MsAAASBHxgBaCQ/kk8ny0Nr04uG/kRb8MTJGiXho/52CoCFi4XxcmuBGr0y1gyZj2kCnsCQAAAD5Bn5ZFFSx/AAANz9HPERRS8yal+VAFwxROEvl0cpBPaP8XCTK0/pMK6+YxLFmSyX8+PpebpcIl3O7H5EltSAAAACIBn7V0Rv8AABFbRHW59yTNN2vDD2ColWtr9kqZhB8+KnSBAAAAIAGft2pG/wAABppCovHpg2ut2gDWnE/sIrjy1wTx8f/hAAAAQkGbvEmoQWyZTAhf//6MsAAAR/KUrqgAV/moI2giPEK+hjlu9Q76b6uvsEbQn9qCixA6y+Eo7yHdx8OA9kzhIaYwIAAAABpBn9pFFSx/AAAkvwQnEsqXxln8zUBURfiBWwAAACABn/l0Rv8AAC6PHojASoACliFgDaEq768FxrJPU6W5uAAAABsBn/tqRv8AAC6FYWZbhAFFESgc9I2+xzr/wf8AAABrQZvgSahBbJlMCF///oywAAAbIZb0CPrAA4r6sLla6Pwe95lnvOWgt91bFcJXTKhGOwNOsC6zGkq7ZgLFUx0VzQK7mAgdnHCSXxxd7Da3sPUUrKUwVhpOYrmJ4Fb2fmsDcX2cTK1vLoqDhUEAAAA2QZ4eRRUsfwAAJK5eM4F5pNAEQaagVS9jzhjLAVPPFOy+jFm/4WXagsnjM1916OYkQobDUePcAAAAKgGePXRG/wAALn6Xdy0j/gkIACwe9woGHfi0humcqPaFizWUPJ2yj0OPQAAAAB4Bnj9qRv8AAC6FYWZGBg4AClhTxN/dG+L9x3w1V/EAAACEQZokSahBbJlMCF///oywAABIBxuBZ32K8xRH4DPP3BiAl4gXiEJCC+jfadWGLuDGdDLJOHPNXULULNOPXN0Kv7MKl3GA1LG3GZDMmhzOB2OUIv9MWmkbMlJ7G3YcrGdwLPKkZIUWPnGntzEoP1CfvYrWRFZjfKJbzf3yhD6770QLC5igAAAAIkGeQkUVLH8AAA3QWqALDnmyRrYlfyZtWtcSnKCMuI1yRTcAAAAiAZ5hdEb/AAAGmuu3oAhj7Fsgbava8acEWSD8RbSyV8GBLwAAABEBnmNqRv8AAAMAALEVeBg63QAAAGxBmmhJqEFsmUwIX//+jLAAABsnbAQLgDkW47+IPtLKkNBC8WmfKO8S7gZcAeH58pRp9VnT7J6G/UYs+SP7NkcKg8I47ZciJgV6FByX6SUwqNmtF2T7pAglXIoJ1jv8it8OmynEdXxJSRAztiUAAAAeQZ6GRRUsfwAABUMwl0AGeJmUnlQ6zEGcuurZILHBAAAAEAGepXRG/wAAAwAAsXema68AAAAfAZ6nakb/AAAGm/ekc5wftZWsSqoFQCefymlSzhPHQAAAAHRBmqxJqEFsmUwIX//+jLAAABspNMKv8EmQIAfKaOjKYvammOtY8OognTlgJ2h28TZ7+f8BY78j+op08IQqHNQRQZzDajT1vYeHnfn5Wtcc196zTN6FA6ZVFiI/dPRzToU0nbygSSugy8eqlK2RSuDb9+IhwAAAACJBnspFFSx/AAAN1JbGuQMSGRnq1+PDst6Hb9SweruGOcPdAAAADwGe6XRG/wAAAwAArPij9wAAAB8BnutqRv8AABFkfcMOcF7ACLGB39T8pEH2b7Yd5idAAAAArkGa8EmoQWyZTAhf//6MsAAAR/KUtaiKA0CjUJL5pBMDnImhF/OTKmOYjRozBXo13aFecpLLv8Zglfe7wRTBjEP8iBCtvzrfBc6nX8U7+u5tvQIf48Ve0VY8+3PKKUryx8KWy9MhqmDM9aJKJuXl8PPdglLiYKa4HD0YQVHLvelLn7ij1lVKt5WgqN3y91HwCxUBxzIUB8yTf6Q94vh8m0vDdZqA6IP50M42d15DwQAAAC1Bnw5FFSx/AAAkscwDOtukgjRCNuRbt8H1B7b/olaXHk8oY+Q1jJjCOBnF5uEAAAAhAZ8tdEb/AAAunel9mmhxQzToeeUYCf3InsZUZmHVd13vAAAAGQGfL2pG/wAAEV9Xj6nClWLlF4M7enW6UvIAAABSQZs0SahBbJlMCFf//jhAAAEU+t34ro2rbXRANALZiN/ebnperALOiCKsvP4wt7wXmjIBdZKpq7GJOw9ZR6yV5vwz31hxSTM2nY/ygninIgXB1wAAACpBn1JFFSx/AAAkvwQk9xi3cZJ2e/vY3132n1QueNIoAjroMFTXT5D396EAAAAYAZ9xdEb/AAAQ1CWDoyn7hm7zSmrwvN7/AAAAGAGfc2pG/wAALpjFJVNxqnm5I4mWi8NI2AAAAG1Bm3hJqEFsmUwIV//+OEAAART63fiuvQwvl6+0A9+M3KLIGMFzrF+prxHSFfNVY08+JrfdRA8fOhAfYirBer+BquOfzAENYZUyuteasGd5e0NiBKAMjktlH8Txz8V8RdDuH55uDBF25A0xRMZhAAAAJ0GflkUVLH8AACS/BCWPVFJO5U3N3rvndVpWsH0t2FJ6RZMmqoTTQAAAABsBn7V0Rv8AABDh6I1+dt1xk8pFyMiY2wFpSLEAAAAeAZ+3akb/AAAumMUlU3GqebkjiZaXuXNoel92DiOhAAAAekGbvEmoQWyZTAhX//44QAABFuicaFfiCwpgfbXARIQ55/tvqSyu7fJkBJdl1qndpfascHqT7nL2KTS271PoyrJkVwGuYbc7nMfSq+/in+DLr0wBnOpKSERZMJgJa3YoGA/McOaCDHgGAsvTR3ZcnTOUPj4HHC1zpsHXAAAAO0Gf2kUVLH8AACSz7g0o7go/Pkd+NYRLHehxtb5kxFDxCJoQjUlL5PGM8dZ9pBlwrABrrH0y5fZVgkTdAAAAGQGf+XRG/wAALp3pfZpocUQXOgmszPT5npgAAAAdAZ/7akb/AAARX2fT/p2KmZE7GNKyx/Z+CuQ+kvMAAABWQZvgSahBbJlMCFf//jhAAAEW6JquAOpkPBZgyp4NmPbenILC/Cj1pkUyAJAzhq9Sgkygb6fcDpcFurKO+mhV6/vHkS9SoAckv9pWazYOByKOPlg9iQcAAAAnQZ4eRRUsfwAAJLHBDcdptjqBSmJA2cowYXBSVp22zSd/atMjLpO4AAAAMgGePXRG/wAALo83lRo69pdtZeo13d8xrjJ4Pj9Njwcx4DGmo+M9ds/XLxl2vCsGsg+AAAAAGwGeP2pG/wAALoWeHR2niBhqYSKHogrtvXN7VwAAAFJBmiRJqEFsmUwIV//+OEAAAQ020zu1x4/vc/bsOzDfCC2ezqt1eu78vfeTWpelZkH8uqu1D2F5eM+QVFV8au7wghWLzm+yXyvXD4ArCQaAxWGHAAAAOEGeQkUVLH8AACO9lobNuGDUk2EFzGTgAc8LutP2kWcAB6vOGPoC2YS+LWtDrpQcaYeCsyc4LUjXAAAAIgGeYXRG/wAALV7zix8m1xnzHq85jXN//isx02UaGv7j64AAAAAnAZ5jakb/AAAtZgLs4/5ufxLNoSNCuhnFtAL40UaHUANvp1Y+I6InAAAATEGaZUmoQWyZTAhX//44QAABDPr4ZAMwuJXBbu1gzRVlz7vnolSM+syfS63GbJeF+13OA0NOfMI8H/9Z2FOOXuu5dSt6OBfSlfc3riEAAABiQZqJSeEKUmUwIV/+OEAAAQzxstEBMvw0ENldHrHAThOxEGpDXKwmFnnj9/qDT7tR787C3W4oNlEQqaeKcH0OhkaMm9WCY8c4igBmkTKnHF+jb7+WDmBVvtpOruo9BMOjAy8AAAA+QZ6nRTRMfwAAI64xL8+2BAadcxRLMKcQB2x1pd/QbrVw0thZfIl6upeaUSC5MOLqfpHPuoehG/46XuZIa4EAAAAxAZ7GdEb/AAAtW38Y96VpB0YFQAb/5UVJxhqEsalAEUNnC1x2qkHbG5bEmI0J0mHrgAAAADIBnshqRv8AAC14xTMnnhKRgruZlf3dQEAteJ9hAff9+tjPMRkjaBq4Rytp1eyRugEKgAAAAFtBmstJqEFomUwU8K/+OEAAAQz2nhfgGjTwBB1MSdEQm22LNn4EN9PckOSTnU3Ae3KsN9sOCjjvgGerUBs4zvhQiBjMOH625tm16V86Rl/DN6WO/0hpUyMS5KpZAAAAJwGe6mpG/wAALWBX1KzVmcBEwyk9EEWfVy2KkuTMmTBOV0U/z021wAAAAHFBmu9J4QpSZTAhX/44QAABDPMhiX8EBLcZlM/qmx8omy5LXo2IJ0FggwQa2cLDoh0OR5yjpU9TnzHSCcVRXO1f0nIuFM+UpgvQrtN66tW6KgZAc86mhHZ1Q/oPk+Gwu4l7f+dLZ4/V8nIRygEvAC3uoAAAADtBnw1FNEx/AAAjrUZCvQcFMedl5iXVqmiCtZHDlV/bHLVhaaUAEMz4eITVvyOnsZc7bzbkh7FWL2jCgQAAACwBnyx0Rv8AAC1bfjsbwoQ5slA3pN4FfyIuHpKj8U5N+M0hqhzTDrW+Rg+zTwAAACMBny5qRv8AAC1gV9Ss11TNEC54YQg9i25mJ727FcbbyCX7ewAAAG5BmzNJqEFomUwIV//+OEAAAQ7omq1E9TId+zhRxuvcbyIZCfUuYNLgEuFfy/CSQByV+PlKXaUJl1niyFYE0pNO8WO68VVGZaXs691HXbPE0eXM1BSQ/Sn7YtsxGdqXpfmt+YDI4UzZoytpazpLwAAAADdBn1FFESx/AAAjs+4CYUMcvxJbbzn4PUfhY5ZGt+o3xQDxEpxZSwRJAwVmmq82IIraLNpZFj8cAAAALAGfcHRG/wAALVt+OxvChDmyUDek3gTkQBWYCHdSp656gyxXushosjtgJTLhAAAANAGfcmpG/wAALWUDPb16DAVWWL7hPgnr9E5Cee08F6XEFo+uZGJb+2NR8+/VYy3n2cUQiXgAAAB/QZt2SahBbJlMCFf//jhAAAEE8yNlNbnf+t852juHr90HLSwhIFMitfZsCsysaUyH/gQz92DGqfjNSuKpP85j7rm5fxMHT28ZMh7a1PV3wE+r+aIpB9/vornFzoLEoFMjDfULSg+nhPPa1mywdLB5C/rjKtY27ZdKvgbDV2uf7AAAADJBn5RFFSx/AAAirUaW5m7Az44cypje0Y5nzNyCUTWZ6QSDaKPytUe4aXHKQYj6JuBwYQAAACkBn7VqRv8AACxAWOgxgH7Tk29hS7sSvHNHWuEhV9kTziclgXby+2r98AAAAJJBm7pJqEFsmUwIV//+OEAAAQT0WllNN8oJzieHmAMv87+Dh+tq1KVpvapOYFwJZ3f/Gsb8bRquYJCAZQ7EJ1R7dZQstoClD2D96eK0SKsa2cmzOAEVfHr64mnUfImRrdR2pkhAQU1xpHwo+NVHkkAw6+swx3g51IJkccvVdIXIuOZDj2frgFKYWLRCstSZTYoKKQAAADpBn9hFFSx/AAAirGIhIWGv84wDpC0fOW4Ff+PgdwBqaKwdqupHBK8QkRpefAIr4v3bGM9xzy9RjuOBAAAANAGf93RG/wAALFlCtDBJh8zRe4xc+nr1X+JP56aKu6QUrRUcpHTX+w2D+opbf2ptjgMkT4AAAAAtAZ/5akb/AAAsPxHtyAy9M1cDqDHZ1gyYljFFzzBYvETy6BvlrPxzTyl03RyRAAAAbkGb/kmoQWyZTAhX//44QAABBuiarXI9TM1ImyL5F6ALDOfSwQn8dFwE0diNAyZUzGXHYpNTdWkN+zN8HK+TccuhoE1enxlyXUfb9wp5CT3O7d6jH6DhV22dOhwfPwiUD+Rzvb0lFbKbLlB+USYgAAAAN0GeHEUVLH8AACKz7gCXk6svxF9ZZe3fxTa/24bPIHjxPgQ10Rr4Fo8Y0Kgi+x/ahVlQfJxaobEAAAAsAZ47dEb/AAAsOsxEKWHOejDTVf73R05MxAFO0qYotzRXb8orUf5Cnh3X+YEAAAAoAZ49akb/AAAsRZZwt+XkkRbWvx8rNH7VHfZkgRnZM1yLssAse8It6AAAAJlBmiJJqEFsmUwIV//+OEAAAP1jltz68CNuxyEbOHA9P3B/EbUWraU7W1F/lfTd+q0D0m/5qbb8ntM+0BKtcKrmuvKaDiJ55s8PMIXX+Y/ha9Jl8mTPTTKEHiCgGHnTyixR4IueHJz9RpWzCY22vBe6cF71N/wnWOuYvUWXB8JIWEcrorlUWQPkN2SqPIK7e8I8KwmfzTkiAXQAAABJQZ5ARRUsfwAAIaxh7fSN78Rha8jRLhjmhHaXhuj+leCSGjOkyEF7BJoNMPtlG/NWRCO2liX5d56kuACwS0tIChjqR85sQqZ0wQAAACoBnn90Rv8AACs6RWurGgn4mKqVaD59YJVoTXX1S+iqqcNVGmcFkP2c1vQAAAAuAZ5hakb/AAArHxFNXbvVuXkyFMf354liWsXpxDmX2g2rIpdepQQSY/LkXZYnwQAAAJ5BmmVJqEFsmUwIV//+OEAAAP7v/chQPz5AUEUnALlUDSjQRX8dOZ4BNe6Cg82NnI4Outwy0GoaB0jc+DkeJjj+tdlo55K5Dy7JsOe2i5s3VpoWJef/Q6zCPpM4M9bE8Ef3/sMXaB6C/jq623gGBUCRfgFgpGUP4hoO//mzI+fjWU34Dt6j+4SnEI1oXg9T/xKxPq1XmEU8oIZuS3GFUAAAADdBnoNFFSx/AAAhrGIhIV3arJ4a6AegyY2tGJUKf0Dg4vA3VOnXxulQzUoG2GihPuHFgUqKALxxAAAAMwGepGpG/wAAKx8R7cgNH0oxwk4wJENyHuxuMeXoyCuVQCnBGuMeAADgvkhUTKajgo0s+QAAAHVBmqlJqEFsmUwIV//+OEAAAP7v/NeW+9+VFsd24QPG8UVFgBfotRckA9a8g15AH7vZpoU72NZ3BKeVAVfovY/PLP58vp3pBlICgvZuN47VCdnwuW5Sxvo3tdj7pEgRekNCHKy18dX+t0vTDSPnHRQ6wkuNkcEAAAA8QZ7HRRUsfwAAIbG7/ZhrX4KQiVk8pKnS79pcAiN5T7gNgQ0cmZp2RUw1pyypmAQnX33jsuZvmKScN7jhAAAAIwGe5nRG/wAAKy80AR3XHO2oEk/joQGeZXrngTho9D24oQFSAAAAOwGe6GpG/wAAKyVIVGbr6PIOiJE0aXHtz6eQebMvXN6DuAUFaW6BYMV0DIbScPox61eCfQRMdGnGK9O2AAAAdUGa7EmoQWyZTAhX//44QAAA+BmZwpQJ/BVj5YXzz15HvMfI5qpeyBY0T4Qa9yyZYjPMnggLsFiRB3/waImyk7M6U0SDyBhuSgyxCa/9x9N6G573ysBQP7xDkfvnf9dX1wnsrpsQhKlgvu8Jo34/FFo9Wp13gQAAADlBnwpFFSx/AAAgvS//d4SX6IaJ0eCAJ+6PMQSOX7+4HvSfgAZ2Y7/Jw1AWxBputbJDBcySNL3uKNwAAABAAZ8rakb/AAAqFf8f2RebBZbuB/VuY9DPTyyZv6p8gsRrTckyfJc56e4CJqQ/AJdgosR2HgAcY5SdERzxcondMAAAAJlBmzBJqEFsmUwIV//+OEAAAPgZqHq7RU2pERlQaOYfA+Td2rnc0UHozUrMPLLVfe/6gEbiuHZEnpIfjmSgNEjJy7Z10p5fxnX5fzxOHHAs5rb7gTafcBqVqOWhx70t4t+GmvqtZCsjfbHZsz/0frS+sLqyAnmuiMgkTiSqnfOcpRt2kXmm+QIo2WBbQK5J8IiRTOwZwH4H7sEAAAA6QZ9ORRUsfwAAILWJauScqn0LrYZo73ctfTOddkyfPTbY3eSrRCVp4uSeDVdop/Lz/DAfKDxv5h10wQAAACcBn210Rv8AACoPNAEViwpfhKM7zioPCTn3Q4Uju0QhcEP9o/MNXYEAAAAvAZ9vakb/AAAo9f6UKXlXEmcjI0PMtPJdgeUVeVMgEbueoJBfJb8FBBTIEG8uC6YAAACaQZtzSahBbJlMCFf//jhAAADz+IOezRo3zCsntvVmx02K0LR5T5WAyeoBhoTbvJkXwqhl4ASwpVnVgPkg0z1Rnjh6r/ZIiMNQAOKGxXMibS3B+J4S4D/+s7innZZ7ufoOFkxdkt06YVVYaTwRspKKZ3J5jQD6VLutWP1JFYB/fh/HWg+vhene4b6LsiIYseF1RsR+tkqQhlXNIAAAAERBn5FFFSx/AAAfuHyuD562vk7o876l6aaOVe4m+d9OEr5triaaFiFpT/BlOt7Nd/1xbTr6pEUSUhGUG577vLTPtgjFgQAAADoBn7JqRv8AACjdV5yaVZqlQAFgjzDPHmv44Mflqa1EXd9pvmWcErK1oVBHOS3BUABlp4/NcdHtPHUgAAAAokGbt0moQWyZTAhX//44QAAA7gPKFYbAAytcYKfNSygB1pjze9S7PbzBD9Ag5DFsO+Jch+3LApVSH83T7v4gTrohAIrqmfW2x/OMPfS/4rN4n9WtjJEzkLfWRbCFRHCxwdrI6mH4Kz1li5D23/ZSl/Tv99U9//V/Dd+rpX+Jg6jH2VMMIlOrshHfj/DDY/bAYk7RJGnXUGQ4byJoWGP459akwAAAAFZBn9VFFSx/AAAfFidvAnR7BrJjSQ2HVxAir32yL9cKR2hWcIL0AbgSHLKOsY68OzeSXSQ/2bgo/Kp6QTj4CGsaDjbpxRIigXT5/YZCFrO3oiucA2rrKwAAADABn/R0Rv8AACfX9+JVZXoEFh8NQowc5JBm4CKbL1v3sKXxUzwA2MZJhaqGmCEzBZUAAAA9AZ/2akb/AAAnvxHgNBUBzA6wqjuDJr2KGqqmRKxXuF3UI80rnrjYRmpimDtEsbSB56H+e96ofiCtJAjndQAAAG9Bm/lJqEFsmUwUTCv//jhAAAD5b/0jRh8bQ15EatJi4o5RNxMBZaVbDvksB/2AD6JmpCwA9jdCtbPFIcDPj1qw6w3VO97FzCIDZuQzD6qDpudnw5C/BPXs5ctDbdlKGFgWi7+R7D1LWX1T7at/NekAAAAxAZ4Yakb/AAAo5UKc1lIJV96sdGHMme8Pr4igX5U9c+r01+PWMymsMCvjL7KZvMQ2OAAAAJZBmh1J4QpSZTAhP/3xAAADAjnA0qQgW7Of9+OFqzZF6cWyVV8a3Q3YRZY9/o/fuw9WMyV2j3n/HBxLY9/OyDx1Zf8/pUDtBa9v9tiwAxB0V3cmomoL9LBV/t1pMPF15ZYY9FXgkbr3tUscQ0picpQlAZSMtuSA4pwh6CPxwd0DquQTjY8Q9O6FELqLeLVIrjbSv81jjFkAAAAoQZ47RTRMfwAAUfNJzzJz7pAuRk7ZVz0uxxRpXvev7K9Ui86Dg8P0fAAAACsBnlp0Rv8AACa/BRA3jtk4HkhyG+A1qIcwEkZGPvMCr4VxxiXHduoaKSXTAAAAKQGeXGpG/wAAZyR/DYQy/QIe/L4G/QieawroLsrDqHeoGGifdo1EXEDHAAAAjEGaX0moQWiZTBTwn/3xAAADAj0vDbVQl5Vq88b/mtagDm46TlKjvBtyXvYsVm/9SJjIXZjP2Udss27b9dfkHS/MepiKRIhVP4DJ3z5MRD/PLzyRZ2T/F8kn5NU0y9qPaA7ZYLnlHOX/x5XtpsJkMpkkVyif5h0JC8giDL0AVvy1yi2qmHTaY6Bga93KAAAAPQGefmpG/wAAZz+RJEs/gVAEWvdWi4NcPKDVS6LUFTjaZUYCF8lzA68+EWUuBwo2VsBywJmC5ufFUF4CYFQAAAB4QZpiSeEKUmUwIT/98QAAAwIt/mJ4YGhWNlyk/UMGJVRHkRuyABtKUouqHsY9yR/zgnyfItjOnZM4vNAvEU6yJtwyLqzQZvht8/0NBz5qxpXFQCry/GhBHB8+160oUNBonU2ki4tzP4VttL6nKSKCfM8A0pvBO0QhAAAAMkGegEU0TH8AAFH+i6BbuA13e5yPqUnBIiInjXSn/kshrAQwbKByLPmDw4JiSabaWsXzAAAAPQGeoWpG/wAAZySRnZdKItT+hhCLZtJm0zW6baqjGF4l/41iiDL/IAOenZ9uHTTlZpx4g4Jc/FO9CI2lpOEAAAB2QZqjSahBaJlMCE///fEAAAMCGlvN5EL+739KNPvMox11xUEndFccPls7OIXJ6SK09GALgnd4H95GxCNH8nLkwFw1QkzhPywG585IgDlYTc4jaGxQShv7U5yDpUai9z9u7dKcfww6ld/tpk1CLep3ptAcmEphwAAAAJNBmsRJ4QpSZTAhX/44QAAA7m/9KNBgmE4gEGAZjHZXFfP7MLUuqeR6W2DZmfKzo6ROVG1zKfRe6lgAfhN9Gnzyda1UXkxfyXlOiROdiKR9ogFRADlmH2o5Gm09a33rfWPTlYCDVMUAt0NVycubfmtxNKstsq6+Q7H+kc1/+INlY20p5Tg+XVQEwke4ay0mrVm2hoMAAACRQZrnSeEOiZTAhP/98QAAAwId0TWYJpCPbLZSAPnq6Nw5sBVwREri6HaQfSzZTpxvswtPWhDp+VWmVJ0OkmExK3cevBIwhQbMtzyH6/v2q76yJP1n3TcIE7hPf/s30mEvngCAdUe0aOolNCxSzqAaxuOuSCuPpY5FoxAlWt+C/f9IPvPbMcjiJAqWorOyZw7hHwAAAD9BnwVFETx/AABR/ouWXewX2cpZKeKfy2tWUB8PeJishd9zV1gFcCKdpuV9wuqPRRaEU+I1BT1p9cjaVckyFvkAAAA3AZ8makb/AABnJJF8oVMyRoaaHH6BdOadtWNvCU6MRFSV3qH0Px5zRd4z8nsKD2/5egzqoM4DpwAAAJRBmypJqEFomUwIT//98QAAAwIN0TWYMiVoAJ7tzNbsku8V4p8mwLMuf62EEnv+/ud1YIjksLYFPIkRckpJXN4QSvDQt9oaHc+SQ8PT9oX3m/QZ2NkDLCKqjZjp04nB+lFqdwsjLZ1XtVqgjD4Vp17v4eCW3bqjbjBTu/Ph301HywVABvGY8AzYRZ/5nMJzkR6PkjbJAAAARkGfSEURLH8AAFIIIxcK9CKoN4ncaHkGg1sMP7KXltRWIkyRTxVCJEdZNv5MS3s7J++J2zTpJPIsaaAw5gUTbRvHqsn5Vg4AAAA4AZ9pakb/AABnJJEtvkKhwS2WcoHfts54to0Ioa90/8Hz1dsUwPkDbiriW0/tUWtEfKdmTGcvbAkAAABTQZtrSahBbJlMCE///fEAAAMB+rSbCT/TdDYOjTpB/sYHGJDRYTQi9aeWS5Pe3AGnukW5dR6kTsfnjEqQDU+IJBGELsoKI/N7wSH2dUa2ZeoYfjQAAAB9QZuMSeEKUmUwIT/98QAAAwH6tX15opx++Lp/iz3v/ACl75Tl/MQg9OOiOJ1o+wHGfpRT6X9d3/j1rvZQb1vJDXQTk/kCsmRbWl1x5sQyaX0pMF8JD09CaX9cf8cBHQmUJe35osMfNMtGNC89nttkHp4kTF1uitxQHlOlFWQAAAB6QZuvSeEOiZTAhH/94QAAAwM2KsbYJEy7lALzt6c0phE+4ugJZ5NEMej023Awwp/DZZYo41j9d+l09cbDWaEBwZE0O3bUsSFr2foNdWwmeYMoPnquRuGu41TWDnWHezGwPMOeWksha7RDir6qjM8US6EhI/5+0zNblIEAAABLQZ/NRRE8fwAAUf6Lgl3tBP/w9n5q0WZrD8L+MbMa88icp8lycrerAb64kVRkroM3wn/VHj1JwzPz8JKWMHKF+d92hyNO7XD9gBQxAAAAQwGf7mpG/wAAZySQ6BejWENdtv+qmkHhhieo4guNolWfUPMp1+GQSdEE5BGkjnze90JF8VvXgCDxiZnZZYSU5S/FraEAAABmQZvwSahBaJlMCEf//eEAAAMDIiXQPaKyjaGz8B389L7E28JycaoiY8s2kRZ0WeVOdvMNP3i9Tw0ogZkATB/OSgB/NC9Y8N18JuMrXooWz61E/qdS5hpvEpzDb4HODyEdatgB5A/gAAAAUEGaEknhClJlMFESx//8hAAADE/0M5yQZAP64TNyxff7VGGrWl4hkRK1di7zY00yKp9nAgDeoSr1KxBOR9CRFvY+pt54LQVcn2zdK7K1o5tAAAAAJwGeMWpG/wAAIa3LIESidnNwrctom4HJiuto/uMev2tvgm0Zlg/FwQAAAEFBmjNJ4Q6JlMCN//pYAAAXYctIK9/V+EsvZ2HHQJIKwcuCvt29m18+e1+1CUbotGFrY5oJfLKMwBSjx4VRmqrZ7AAACbNtb292AAAAbG12aGQAAAAAAAAAAAAAAAAAAAPoAAATRgABAAABAAAAAAAAAAAAAAAAAQAAAAAAAAAAAAAAAAAAAAEAAAAAAAAAAAAAAAAAAEAAAAAAAAAAAAAAAAAAAAAAAAAAAAAAAAAAAAAAAAACAAAI3XRyYWsAAABcdGtoZAAAAAMAAAAAAAAAAAAAAAEAAAAAAAATRgAAAAAAAAAAAAAAAAAAAAAAAQAAAAAAAAAAAAAAAAAAAAEAAAAAAAAAAAAAAAAAAEAAAAACWAAAAZAAAAAAACRlZHRzAAAAHGVsc3QAAAAAAAAAAQAAE0YAAAQAAAEAAAAACFVtZGlhAAAAIG1kaGQAAAAAAAAAAAAAAAAAADwAAAEoAFXEAAAAAAAtaGRscgAAAAAAAAAAdmlkZQAAAAAAAAAAAAAAAFZpZGVvSGFuZGxlcgAAAAgAbWluZgAAABR2bWhkAAAAAQAAAAAAAAAAAAAAJGRpbmYAAAAcZHJlZgAAAAAAAAABAAAADHVybCAAAAABAAAHwHN0YmwAAACYc3RzZAAAAAAAAAABAAAAiGF2YzEAAAAAAAAAAQAAAAAAAAAAAAAAAAAAAAACWAGQAEgAAABIAAAAAAAAAAEAAAAAAAAAAAAAAAAAAAAAAAAAAAAAAAAAAAAAAAAAAAAY//8AAAAyYXZjQwFkAB7/4QAZZ2QAHqzZQJgz5eEAAAMAAQAAAwA8DxYtlgEABmjr48siwAAAABhzdHRzAAAAAAAAAAEAAACUAAACAAAAABRzdHNzAAAAAAAAAAEAAAABAAAEYGN0dHMAAAAAAAAAigAAAAEAAAQAAAAAAQAACgAAAAABAAAEAAAAAAEAAAAAAAAAAQAAAgAAAAABAAAKAAAAAAEAAAQAAAAAAQAAAAAAAAABAAACAAAAAAEAAAoAAAAAAQAABAAAAAABAAAAAAAAAAEAAAIAAAAAAQAACgAAAAABAAAEAAAAAAEAAAAAAAAAAQAAAgAAAAABAAAKAAAAAAEAAAQAAAAAAQAAAAAAAAABAAACAAAAAAEAAAoAAAAAAQAABAAAAAABAAAAAAAAAAEAAAIAAAAAAQAACgAAAAABAAAEAAAAAAEAAAAAAAAAAQAAAgAAAAABAAAKAAAAAAEAAAQAAAAAAQAAAAAAAAABAAACAAAAAAEAAAoAAAAAAQAABAAAAAABAAAAAAAAAAEAAAIAAAAAAQAACgAAAAABAAAEAAAAAAEAAAAAAAAAAQAAAgAAAAABAAAKAAAAAAEAAAQAAAAAAQAAAAAAAAABAAACAAAAAAEAAAoAAAAAAQAABAAAAAABAAAAAAAAAAEAAAIAAAAAAQAACgAAAAABAAAEAAAAAAEAAAAAAAAAAQAAAgAAAAABAAAKAAAAAAEAAAQAAAAAAQAAAAAAAAABAAACAAAAAAEAAAoAAAAAAQAABAAAAAABAAAAAAAAAAEAAAIAAAAAAQAACgAAAAABAAAEAAAAAAEAAAAAAAAAAQAAAgAAAAABAAAKAAAAAAEAAAQAAAAAAQAAAAAAAAABAAACAAAAAAEAAAQAAAAAAQAACgAAAAABAAAEAAAAAAEAAAAAAAAAAQAAAgAAAAABAAAGAAAAAAEAAAIAAAAAAQAACgAAAAABAAAEAAAAAAEAAAAAAAAAAQAAAgAAAAABAAAKAAAAAAEAAAQAAAAAAQAAAAAAAAABAAACAAAAAAEAAAgAAAAAAgAAAgAAAAABAAAKAAAAAAEAAAQAAAAAAQAAAAAAAAABAAACAAAAAAEAAAoAAAAAAQAABAAAAAABAAAAAAAAAAEAAAIAAAAAAQAACgAAAAABAAAEAAAAAAEAAAAAAAAAAQAAAgAAAAABAAAIAAAAAAIAAAIAAAAAAQAACgAAAAABAAAEAAAAAAEAAAAAAAAAAQAAAgAAAAABAAAIAAAAAAIAAAIAAAAAAQAACgAAAAABAAAEAAAAAAEAAAAAAAAAAQAAAgAAAAABAAAIAAAAAAIAAAIAAAAAAQAACgAAAAABAAAEAAAAAAEAAAAAAAAAAQAAAgAAAAABAAAGAAAAAAEAAAIAAAAAAQAACgAAAAABAAAEAAAAAAEAAAAAAAAAAQAAAgAAAAABAAAGAAAAAAEAAAIAAAAAAQAACAAAAAACAAACAAAAAAIAAAQAAAAAAQAACAAAAAACAAACAAAAAAEAAAgAAAAAAgAAAgAAAAACAAAEAAAAAAEAAAgAAAAAAgAAAgAAAAABAAAEAAAAAAEAAAYAAAAAAQAAAgAAAAABAAAEAAAAABxzdHNjAAAAAAAAAAEAAAABAAAAlAAAAAEAAAJkc3RzegAAAAAAAAAAAAAAlAAABN4AAACTAAAALAAAACAAAAAkAAAAXQAAACUAAAAWAAAAIgAAAF0AAAAZAAAASAAAABQAAABSAAAAIQAAACEAAAAqAAAAXAAAAC0AAAAvAAAAOAAAAEYAAABCAAAAJgAAACQAAABGAAAAHgAAACQAAAAfAAAAbwAAADoAAAAuAAAAIgAAAIgAAAAmAAAAJgAAABUAAABwAAAAIgAAABQAAAAjAAAAeAAAACYAAAATAAAAIwAAALIAAAAxAAAAJQAAAB0AAABWAAAALgAAABwAAAAcAAAAcQAAACsAAAAfAAAAIgAAAH4AAAA/AAAAHQAAACEAAABaAAAAKwAAADYAAAAfAAAAVgAAADwAAAAmAAAAKwAAAFAAAABmAAAAQgAAADUAAAA2AAAAXwAAACsAAAB1AAAAPwAAADAAAAAnAAAAcgAAADsAAAAwAAAAOAAAAIMAAAA2AAAALQAAAJYAAAA+AAAAOAAAADEAAAByAAAAOwAAADAAAAAsAAAAnQAAAE0AAAAuAAAAMgAAAKIAAAA7AAAANwAAAHkAAABAAAAAJwAAAD8AAAB5AAAAPQAAAEQAAACdAAAAPgAAACsAAAAzAAAAngAAAEgAAAA+AAAApgAAAFoAAAA0AAAAQQAAAHMAAAA1AAAAmgAAACwAAAAvAAAALQAAAJAAAABBAAAAfAAAADYAAABBAAAAegAAAJcAAACVAAAAQwAAADsAAACYAAAASgAAADwAAABXAAAAgQAAAH4AAABPAAAARwAAAGoAAABUAAAAKwAAAEUAAAAUc3RjbwAAAAAAAAABAAAAMAAAAGJ1ZHRhAAAAWm1ldGEAAAAAAAAAIWhkbHIAAAAAAAAAAG1kaXJhcHBsAAAAAAAAAAAAAAAALWlsc3QAAAAlqXRvbwAAAB1kYXRhAAAAAQAAAABMYXZmNTguMjkuMTAw\" type=\"video/mp4\">\n",
              " Your browser does not support the video tag.\n",
              " </video>"
            ]
          },
          "metadata": {}
        }
      ]
    },
    {
      "cell_type": "code",
      "source": [],
      "metadata": {
        "id": "dr7k7xEzVmSc"
      },
      "execution_count": null,
      "outputs": []
    }
  ]
}