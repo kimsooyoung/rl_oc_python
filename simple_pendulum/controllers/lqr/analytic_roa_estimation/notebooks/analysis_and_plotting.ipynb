{
 "cells": [
  {
   "cell_type": "markdown",
   "id": "dde0e6bd-923c-4b50-bb87-2ea9cba2e2aa",
   "metadata": {},
   "source": [
    "# Plotting the Region of Attraction and its Estimations"
   ]
  },
  {
   "cell_type": "markdown",
   "id": "69695df7-01c1-43fb-90d7-e890ac305ce6",
   "metadata": {
    "tags": []
   },
   "source": [
    "### imports"
   ]
  },
  {
   "cell_type": "code",
   "execution_count": null,
   "id": "9178e97d-d579-4ae2-828f-631cad4c2ff5",
   "metadata": {},
   "outputs": [],
   "source": [
    "# Imports\n",
    "import os\n",
    "import numpy as np\n",
    "import matplotlib.pyplot as plt\n",
    "import matplotlib.patches as mpatches\n",
    "import time as t\n",
    "\n",
    "# Local Imports\n",
    "#from simple_pendulum.controllers.lqr.lqr import lqr\n",
    "from simple_pendulum.controllers.lqr.lqr_controller import LQRController\n",
    "from simple_pendulum.model.pendulum_plant import PendulumPlant\n",
    "\n",
    "#from simple_pendulum.controllers.lqr.analytic_roa_estimation.lqr_controller_roa import LQRControllerCapped\n",
    "from simple_pendulum.controllers.lqr.analytic_roa_estimation.najafi_oracle import najafi_oracle\n",
    "from simple_pendulum.controllers.lqr.analytic_roa_estimation.analytic_roa import analytic_roa\n",
    "\n",
    "\n",
    "USE_DATA_FROM_PAPER = True\n",
    "\n",
    "data_folder = \"sim_data\"\n",
    "if USE_DATA_FROM_PAPER:\n",
    "    data_folder = \"sim_data_from_paper\""
   ]
  },
  {
   "cell_type": "markdown",
   "id": "1f0dc378-6fad-4d87-8caf-65ef03d0cd8f",
   "metadata": {
    "tags": []
   },
   "source": [
    "### functions that estimate the RoA"
   ]
  },
  {
   "cell_type": "code",
   "execution_count": null,
   "id": "70ca7522-9924-4582-b0ee-fe435124bddb",
   "metadata": {},
   "outputs": [],
   "source": [
    "def analyse(table, predictions = [], verbose = True):\n",
    "    # table[:,2] 'converges', table[:,3] 'violates'\n",
    "    index = range(len(table))\n",
    "    diverges = []\n",
    "    converges = []\n",
    "    behaves = []   \n",
    "    for i in index:\n",
    "        if table[i,2]:\n",
    "            if not table[i,3]:\n",
    "                behaves.append(table[i,0:2])\n",
    "            else:\n",
    "                converges.append(table[i,0:2])\n",
    "        else:\n",
    "            diverges.append(table[i,0:2])\n",
    "    out = [diverges, converges, behaves]\n",
    "    \n",
    "    if verbose:\n",
    "        print('\\033[1m' + \"Description of Indices:\" + '\\033[0m')\n",
    "        print()\n",
    "        print(\"\\033[4m\" + \"general\" + '\\033[0m')\n",
    "        print(\"0: diverge\")\n",
    "        print(\"1: converge\")\n",
    "        print(\"2: converge + no violation\")\n",
    "        print()\n",
    "        n=3\n",
    "    \n",
    "    for test in predictions:\n",
    "        \n",
    "        if verbose:\n",
    "            print(\"\\033[4m\" + test[0] + '\\033[0m')\n",
    "            print(str(n) + \": positive\")\n",
    "            print(str(n+1) + \": false positive\")\n",
    "            print(str(n+2) + \": negative\")\n",
    "            print(str(n+3) + \": false negative\")\n",
    "            print()\n",
    "            n += 4\n",
    "        \n",
    "        pos = []\n",
    "        falsepos = []\n",
    "        neg = []\n",
    "        falseneg = []\n",
    "        for i in index:\n",
    "            q = table[i,0:2]\n",
    "            if test[1](q):\n",
    "                if table[i,2]:\n",
    "                    pos.append(q)\n",
    "                else:\n",
    "                    falsepos.append(q)\n",
    "            else:\n",
    "                if table[i,2]:\n",
    "                    falseneg.append(q)\n",
    "                else:\n",
    "                    neg.append(q)\n",
    "        out.extend([pos,falsepos,neg,falseneg])\n",
    "    return out"
   ]
  },
  {
   "cell_type": "code",
   "execution_count": null,
   "id": "47ba5290-4aeb-4da2-abea-a36e6260fa8f",
   "metadata": {},
   "outputs": [],
   "source": [
    "def getSets(data_path, verbose = True):\n",
    "    params = np.genfromtxt(data_path + \"/parameters.csv\", delimiter = \",\")\n",
    "    table = np.genfromtxt(data_path + \"/table.csv\", delimiter = \",\")\n",
    "    \n",
    "    mass = params[0]\n",
    "    length = params[1]\n",
    "    torque_limit = params[2]\n",
    "    damping = params[3]\n",
    "    coulomb_fric = params[4]\n",
    "    gravity = params[5]\n",
    "    Q_11 = params[6]\n",
    "    Q_22 = params[7]\n",
    "    R = params[8]\n",
    "    N = int(params[9])\n",
    "    inertia = mass*length*length\n",
    "    \n",
    "    t0 = t.time()\n",
    "    analytic_estimator = analytic_roa(mass=mass,\n",
    "                                      length=length,\n",
    "                                      damping=damping,\n",
    "                                      gravity=gravity,\n",
    "                                      torque_limit=torque_limit,\n",
    "                                      Q_11 = Q_11,\n",
    "                                      Q_22 = Q_22,\n",
    "                                      R = R)\n",
    "    \n",
    "    analytic = analytic_estimator.satisfies_theory\n",
    "    analytic2 = analytic_estimator.satisfies_theory_full\n",
    "    \n",
    "\n",
    "    t1 = t.time()\n",
    "    pendulum = PendulumPlant(mass=mass,\n",
    "                            length=length,\n",
    "                            damping=damping,\n",
    "                            gravity=gravity,\n",
    "                            coulomb_fric=coulomb_fric,\n",
    "                            inertia=inertia,\n",
    "                            torque_limit=torque_limit)\n",
    "\n",
    "    controller = LQRController(mass=mass,\n",
    "                           length=length,\n",
    "                           damping=damping,\n",
    "                           gravity=gravity,\n",
    "                           torque_limit=torque_limit,\n",
    "                           Q = np.diag((Q_11,Q_22)),\n",
    "                           R = np.array([[R]]))\n",
    "    controller.set_clip()\n",
    "\n",
    "    orac = najafi_oracle(pendulum,controller)\n",
    "    najafi = orac.query\n",
    "    t2 = t.time()\n",
    "    \n",
    "    return analyse(table, predictions = [[\"analytic\", analytic], [\"najafi\", najafi]], verbose = verbose), t1-t0, t2-t1\n",
    "\n",
    "def getSetHeuristic(data_path, verbose = True):\n",
    "    params = np.genfromtxt(data_path + \"/parameters.csv\", delimiter = \",\")\n",
    "    table = np.genfromtxt(data_path + \"/table.csv\", delimiter = \",\")\n",
    "    \n",
    "    mass = params[0]\n",
    "    length = params[1]\n",
    "    torque_limit = params[2]\n",
    "    damping = params[3]\n",
    "    coulomb_fric = params[4]\n",
    "    gravity = params[5]\n",
    "    Q_11 = params[6]\n",
    "    Q_22 = params[7]\n",
    "    R = params[8]\n",
    "    N = int(params[9])\n",
    "    inertia = mass*length*length\n",
    "    \n",
    "    t0 = t.time()\n",
    "    analytic_estimator = analytic_roa(mass=mass,\n",
    "                                      length=length,\n",
    "                                      damping=damping,\n",
    "                                      gravity=gravity,\n",
    "                                      torque_limit=torque_limit,\n",
    "                                      Q_11 = Q_11,\n",
    "                                      Q_22 = Q_22,\n",
    "                                      R = R)\n",
    "    \n",
    "    analytic = analytic_estimator.satisfies_theory\n",
    "    without_heuristic = analytic_estimator.satisfies_theory_full\n",
    "    t1 = t.time()\n",
    "\n",
    "    return analyse(table, predictions = [[\"analytic\", analytic], [\"without heuristic\", without_heuristic]], verbose = verbose), t1-t0, 0"
   ]
  },
  {
   "cell_type": "markdown",
   "id": "b9a5a793-41bd-4e13-b6ce-4a1c7ca60b6f",
   "metadata": {
    "tags": []
   },
   "source": [
    "### functions for drawing the plots"
   ]
  },
  {
   "cell_type": "code",
   "execution_count": null,
   "id": "80c4f68e-c335-4183-961f-fe78da78b506",
   "metadata": {},
   "outputs": [],
   "source": [
    "def draw(temp, savename = None, boundaries = [0,2*np.pi,-10,10], xticks = [0, np.pi/2, np.pi, 3*np.pi/2, 2*np.pi], xlabels = ['$-\\pi$', \"$-\\pi/2$\",\"$0$\",\"$\\pi/2$\",\"$\\pi$\"]):\n",
    "    plt.style.use(['science', 'ieee'])\n",
    "    fig,ax = plt.subplots(figsize=(2,1.3333333333))\n",
    "    \n",
    "    s=.3\n",
    "    try:\n",
    "        X,Y = zip(*temp[1])\n",
    "        plt.scatter(X,Y, c = \"gray\", s=s, label=r'$\\mathcal{S}$')\n",
    "    except: pass\n",
    "    try:\n",
    "        X,Y = zip(*temp[2])\n",
    "        plt.scatter(X,Y, c = \"black\", s=s, label=r'$\\tilde{\\mathcal{S}}$')\n",
    "    except: pass\n",
    "    try:\n",
    "        X,Y = zip(*temp[7])\n",
    "        plt.scatter(X,Y, c = \"#ffd700\", s=s, label=r'$\\mathcal{S}_\\text{Lyapunov}$') \n",
    "    except: pass\n",
    "    try:\n",
    "        X,Y = zip(*temp[3])\n",
    "        plt.scatter(X,Y, c = \"#0057b7\", s=s, label=r'$\\mathcal{S}_\\text{analytic}$')   \n",
    "    except: pass\n",
    "    \n",
    "    try:\n",
    "        X,Y = zip(*temp[8])\n",
    "        plt.scatter(X,Y, c = \"orange\", s=s, label=r'$\\mathcal{S}_\\text{problematic}$')\n",
    "    except: pass\n",
    "    \n",
    "    ax.axis(boundaries)\n",
    "    \n",
    "    \n",
    "    ax.set_xticks(xticks)\n",
    "    ax.set_xticklabels(xlabels)\n",
    "    \n",
    "    \n",
    "    P1 = mpatches.Patch(color = \"gray\", label=r'$\\mathcal{S}$')\n",
    "    P2 = mpatches.Patch(color = \"black\", label=r'$\\tilde{\\mathcal{S}}$')\n",
    "    P3 = mpatches.Patch(color = \"#ffd700\", label=r'$\\mathcal{S}_\\text{Lyapunov}$')\n",
    "    P4 = mpatches.Patch(color = \"#0057b7\", label=r'$\\mathcal{S}_\\text{analytic}$')\n",
    "    leg = ax.legend(handles=[P1,P2,P3,P4], loc = 1, labelspacing = 0, frameon = True, edgecolor = \"black\", prop={'size': 6})\n",
    "    leg.get_frame().set_linewidth(0.5)\n",
    "    leg.get_frame().set_alpha(None)\n",
    "    leg.get_frame().set_facecolor((1, 1, 1, .5))\n",
    "    \n",
    "    plt.xlabel('angle [rad]')\n",
    "    plt.ylabel('angular velocity [rad/s]')\n",
    "    if not savename == None:\n",
    "        plt.savefig(savename + '.png')\n",
    "    else:\n",
    "        plt.show()\n",
    "        \n",
    "def drawHeuristic(temp, savename = None, show = True, boundaries = [0,2*np.pi,-10,10], xticks = [0, np.pi/2, np.pi, 3*np.pi/2, 2*np.pi], xlabels = ['$-\\pi$', \"$-\\pi/2$\",\"$0$\",\"$\\pi/2$\",\"$\\pi$\"]):\n",
    "    plt.style.use(['science', 'ieee'])\n",
    "    fig,ax = plt.subplots(figsize=(3.3, 2.2))\n",
    "    plt.xlabel('angle [rad]')\n",
    "    plt.ylabel('angular velocity [rad/s]')\n",
    "    \n",
    "    s=.3\n",
    "    try:\n",
    "        X,Y = zip(*temp[1])\n",
    "        plt.scatter(X,Y, c = \"gray\", s=s, label=r'$\\mathcal{S}$')\n",
    "    except: pass\n",
    "    try:\n",
    "        X,Y = zip(*temp[2])\n",
    "        plt.scatter(X,Y, c = \"black\", s=s, label=r'$\\tilde{\\mathcal{S}}$')\n",
    "    except: pass\n",
    "    try:\n",
    "        X,Y = zip(*temp[7])\n",
    "        plt.scatter(X,Y, c = \"tab:red\", s=s, label=r'$\\mathcal{S}_\\text{unbound}$') \n",
    "    except: pass\n",
    "    try:\n",
    "        X,Y = zip(*temp[3])\n",
    "        plt.scatter(X,Y, c = \"#0057b7\", s=s, label=r'$\\mathcal{S}_\\text{analytic}$')\n",
    "    except: pass\n",
    "    try:\n",
    "        X,Y = zip(*temp[8])\n",
    "        plt.scatter(X,Y, c = \"tab:red\", s=s)\n",
    "    except: pass\n",
    "    \n",
    "    ax.axis(boundaries)\n",
    "    \n",
    "    \n",
    "    ax.set_xticks(xticks)\n",
    "    ax.set_xticklabels(xlabels)\n",
    "    P1 = mpatches.Patch(color = \"gray\", label=r'$\\mathcal{S}$')\n",
    "    P2 = mpatches.Patch(color = \"black\", label=r'$\\tilde{\\mathcal{S}}$')\n",
    "    P3 = mpatches.Patch(color = \"tab:red\", label=r'$\\mathcal{S}_\\text{unbound}$')\n",
    "    P4 = mpatches.Patch(color = \"#0057b7\", label=r'$\\mathcal{S}_\\text{analytic}$')\n",
    "    leg = ax.legend(handles=[P1,P2,P3,P4], loc = 1, labelspacing = 0, frameon = True, edgecolor = \"black\")\n",
    "    leg.get_frame().set_linewidth(0.5)\n",
    "    leg.get_frame().set_alpha(None)\n",
    "    leg.get_frame().set_facecolor((1, 1, 1, .5))\n",
    "    \n",
    "    plt.xlabel('angle [rad]')\n",
    "    plt.ylabel('angular velocity [rad/s]')\n",
    "    if not savename == None:\n",
    "        plt.savefig(savename + '.png')\n",
    "    else:\n",
    "        plt.show()"
   ]
  },
  {
   "cell_type": "markdown",
   "id": "d09b535a-e62d-4563-9349-5ea502ef4b27",
   "metadata": {
    "tags": []
   },
   "source": [
    "### drawing the comparison between the analytic estimation with and without the heuristic bound"
   ]
  },
  {
   "cell_type": "code",
   "execution_count": null,
   "id": "276c8c1f-69f1-4576-bfc7-7d3854795bf9",
   "metadata": {},
   "outputs": [],
   "source": [
    "if not os.path.isdir(\"figures\"):\n",
    "    os.makedirs(\"figures\")"
   ]
  },
  {
   "cell_type": "code",
   "execution_count": null,
   "id": "d69b8f56-36a3-4a4a-8f4a-31e83d337850",
   "metadata": {},
   "outputs": [],
   "source": []
  },
  {
   "cell_type": "code",
   "execution_count": null,
   "id": "fc06017d-0264-4233-8a1e-2e70058b8f42",
   "metadata": {},
   "outputs": [],
   "source": []
  },
  {
   "cell_type": "code",
   "execution_count": null,
   "id": "f4bfa1ea-bc15-40e9-a52f-fb3886370c0d",
   "metadata": {},
   "outputs": [],
   "source": [
    "run, boundaries, xticks, xlabels = [\"long_4\", [0,2*np.pi,-9,9], [0, np.pi/2, np.pi, 3*np.pi/2, 2*np.pi], ['$-\\pi$', \"$-\\pi/2$\",\"$0$\",\"$\\pi/2$\",\"$\\pi$\"]]\n",
    "data_path = os.path.join(os.getcwd(), data_folder, \"parameters_and_tables\", run)\n",
    "temp, t_ana, _ = getSetHeuristic(data_path, verbose = False)\n",
    "drawHeuristic(temp, savename = 'figures/heuristic', show = False, boundaries = boundaries, xticks=xticks, xlabels=xlabels)"
   ]
  },
  {
   "cell_type": "markdown",
   "id": "2b373790-8335-46c4-ad00-2210201d860f",
   "metadata": {
    "tags": []
   },
   "source": [
    "### drawing the comparison between the analytic and the lyapunov based approach"
   ]
  },
  {
   "cell_type": "code",
   "execution_count": null,
   "id": "0196ca80-d81f-4567-a21a-8182c7fcb014",
   "metadata": {},
   "outputs": [],
   "source": [
    "runs = [\"normal_2\", \"normal_4\", \"normal_8\",\n",
    "        \"long_2\", \"long_4\", \"long_8\", \n",
    "        \"short_2\", \"short_4\", \"short_8\"]\n",
    "runss = [[\"normal_2\", [0,2*np.pi,-10,10], [0, np.pi/2, np.pi, 3*np.pi/2, 2*np.pi], ['$-\\pi$', \"$-\\pi/2$\",\"$0$\",\"$\\pi/2$\",\"$\\pi$\"]], \n",
    "         [\"normal_4\", [np.pi/2,3*np.pi/2,-7,7], [np.pi/2, 3*np.pi/4, np.pi, 5*np.pi/4, 3*np.pi/2], [\"$-\\pi/2$\",\"$-\\pi/4$\",\"$0$\",\"$\\pi/4$\",\"$\\pi/2$\"]], \n",
    "         [\"normal_8\", [3*np.pi/4,5*np.pi/4,-4,4], [3*np.pi/4, np.pi*(1-1/8), np.pi, np.pi*(1+1/8), 5*np.pi/4], [\"$-\\pi/4$\",\"$-\\pi/8$\",\"$0$\",\"$-\\pi/8$\",\"$\\pi/4$\"]],\n",
    "         [\"long_2\", [0,2*np.pi,-7,7], [0, np.pi/2, np.pi, 3*np.pi/2, 2*np.pi], ['$-\\pi$', \"$-\\pi/2$\",\"$0$\",\"$\\pi/2$\",\"$\\pi$\"]], \n",
    "         [\"long_4\", [np.pi/4,7*np.pi/4,-6,6], [np.pi/2, 3*np.pi/4, np.pi, 5*np.pi/4, 3*np.pi/2], [\"$-\\pi/2$\",\"$-\\pi/4$\",\"$0$\",\"$\\pi/4$\",\"$\\pi/2$\"]], \n",
    "         [\"long_8\", [3*np.pi/8,13*np.pi/8,-5,5], [np.pi/2, 3*np.pi/4, np.pi, 5*np.pi/4, 3*np.pi/2], [\"$-\\pi/2$\",\"$-\\pi/4$\",\"$0$\",\"$\\pi/4$\",\"$\\pi/2$\"]],\n",
    "         [\"short_2\", [np.pi/2,3*np.pi/2,-8,8], [np.pi/2, 3*np.pi/4, np.pi, 5*np.pi/4, 3*np.pi/2], [\"$-\\pi/2$\",\"$-\\pi/4$\",\"$0$\",\"$\\pi/4$\",\"$\\pi/2$\"]], \n",
    "         [\"short_4\", [3*np.pi/4,5*np.pi/4,-5,5], [3*np.pi/4, np.pi*(1-1/8), np.pi, np.pi*(1+1/8), 5*np.pi/4], [\"$-\\pi/4$\",\"$-\\pi/8$\",\"$0$\",\"$-\\pi/8$\",\"$\\pi/4$\"]], \n",
    "         [\"short_8\", [7*np.pi/8,9*np.pi/8,-3,3], [np.pi*(1-1/8), np.pi, np.pi*(1+1/8)], [\"$-\\pi/8$\",\"$0$\",\"$-\\pi/8$\"]]\n",
    "        ]"
   ]
  },
  {
   "cell_type": "code",
   "execution_count": null,
   "id": "d97ecb77-7b72-4ec0-8506-a4854a51fd16",
   "metadata": {
    "tags": []
   },
   "outputs": [],
   "source": [
    "volume = {}\n",
    "times = {}\n",
    "for (run, boundaries, xticks, xlabels) in runss:\n",
    "    data_path = os.path.join(os.getcwd(), data_folder, \"parameters_and_tables\", run)\n",
    "    temp, t_ana, t_naj= getSets(data_path, verbose = False)\n",
    "    times[run]=[t_ana, t_naj]\n",
    "    volume[run]=[len(temp[3]), len(temp[7])]\n",
    "    draw(temp, savename = 'figures/'+run, boundaries = boundaries, xticks=xticks, xlabels=xlabels)\n",
    "    print(run + \" completed\")"
   ]
  },
  {
   "cell_type": "markdown",
   "id": "83e48870-0035-4634-8a7b-f5add234f1f1",
   "metadata": {
    "tags": []
   },
   "source": [
    "### comparison of volumes and computation times"
   ]
  },
  {
   "cell_type": "code",
   "execution_count": null,
   "id": "6a6caddf-068b-4c15-b77d-6a3a97ab1e1e",
   "metadata": {},
   "outputs": [],
   "source": [
    "volume"
   ]
  },
  {
   "cell_type": "code",
   "execution_count": null,
   "id": "a3c932c3-c100-498f-9ee9-4ffe0b4cfb11",
   "metadata": {},
   "outputs": [],
   "source": [
    "times"
   ]
  },
  {
   "cell_type": "code",
   "execution_count": null,
   "id": "31c6d21a-0ba6-4228-8a6d-a4d55c283eed",
   "metadata": {},
   "outputs": [],
   "source": [
    "for run in runs:\n",
    "    print(run +\": \"+ str(volume[run][0]/volume[run][1]))"
   ]
  },
  {
   "cell_type": "code",
   "execution_count": null,
   "id": "0296315e-d242-4035-af45-272bbc7aeef4",
   "metadata": {},
   "outputs": [],
   "source": [
    "t_mean_ana = 0\n",
    "t_mean_naj = 0\n",
    "for run in runs:\n",
    "    t_mean_ana += times[run][0]\n",
    "    t_mean_naj += times[run][1]\n",
    "    print(run +\": \"+ str(times[run][0]/times[run][1]))\n",
    "t_mean_ana /= len(runs)\n",
    "t_mean_naj /= len(runs)\n",
    "print(\"analytic mean time: \" + str(t_mean_ana))\n",
    "print(\"najafi mean time: \" + str(t_mean_naj))"
   ]
  }
 ],
 "metadata": {
  "kernelspec": {
   "display_name": "pendulum",
   "language": "python",
   "name": "pendulum"
  },
  "language_info": {
   "codemirror_mode": {
    "name": "ipython",
    "version": 3
   },
   "file_extension": ".py",
   "mimetype": "text/x-python",
   "name": "python",
   "nbconvert_exporter": "python",
   "pygments_lexer": "ipython3",
   "version": "3.10.6"
  }
 },
 "nbformat": 4,
 "nbformat_minor": 5
}
