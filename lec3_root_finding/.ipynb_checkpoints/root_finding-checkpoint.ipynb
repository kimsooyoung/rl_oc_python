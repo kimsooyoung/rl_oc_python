{
 "cells": [
  {
   "cell_type": "code",
   "execution_count": 1,
   "id": "5c774cb6-5796-429a-ad3f-32755285fde1",
   "metadata": {},
   "outputs": [],
   "source": [
    "import numpy as np\n",
    "from matplotlib import pyplot as plt\n",
    "import jax.numpy as jnp\n",
    "from jax import jit, grad, jacfwd, jacrev"
   ]
  },
  {
   "cell_type": "code",
   "execution_count": 2,
   "id": "5bb09575-12a1-449e-ac2f-0ad2281f3721",
   "metadata": {},
   "outputs": [],
   "source": [
    "def pendulum_dynamics_wo_control(x):\n",
    "\n",
    "    g = 9.81\n",
    "    l = 1\n",
    "    \n",
    "    q = x[0]\n",
    "    q_d = x[1]\n",
    "    q_dd = -(g/l) * np.sin(q)\n",
    "\n",
    "    return np.array([q_d, q_dd])"
   ]
  },
  {
   "cell_type": "code",
   "execution_count": 3,
   "id": "69a33b82-d990-40ad-89ae-d2730f2320be",
   "metadata": {},
   "outputs": [],
   "source": [
    "def backward_euler_step_fixed_point(dynamics_func, x0, h):\n",
    "\n",
    "    xn = x0\n",
    "    e = [ np.linalg.norm(x0 + h * dynamics_func(xn) - xn) ]\n",
    "\n",
    "    while e[-1] > 1e-8:\n",
    "        xn = x0 + h * dynamics_func(xn)\n",
    "        # e.append = [e, norm(x0 + h .* dynamics_func(xn) - xn) ]\n",
    "        e.append(np.linalg.norm(x0 + h * dynamics_func(xn) - xn))\n",
    "\n",
    "    return xn, e"
   ]
  },
  {
   "cell_type": "code",
   "execution_count": 4,
   "id": "2fb4653f-d6e4-4348-8487-a7dddbff508b",
   "metadata": {},
   "outputs": [
    {
     "data": {
      "text/plain": [
       "(array([ 0.09107764, -0.08922369]),\n",
       " [0.09793658173053843,\n",
       "  0.009793658173053846,\n",
       "  0.009564124766684667,\n",
       "  0.0009564124766684723,\n",
       "  0.0009343853483241293,\n",
       "  9.343853483241571e-05,\n",
       "  9.128296581455142e-05,\n",
       "  9.128296581450979e-06,\n",
       "  8.917746787032166e-06,\n",
       "  8.917746786990532e-07,\n",
       "  8.712050176828967e-07,\n",
       "  8.712050177106523e-08,\n",
       "  8.511098474606182e-08,\n",
       "  8.511098478769519e-09])"
      ]
     },
     "execution_count": 4,
     "metadata": {},
     "output_type": "execute_result"
    }
   ],
   "source": [
    "x0 = [0.1, 0.0]\n",
    "backward_euler_step_fixed_point(pendulum_dynamics_wo_control, x0, 0.1)"
   ]
  },
  {
   "cell_type": "code",
   "execution_count": null,
   "id": "194b2acd-8f78-4d76-99ed-acfcd4a9800e",
   "metadata": {},
   "outputs": [],
   "source": [
    "def backward_euler_step_newton(fun, x0, h)\n",
    "\n",
    "    xn = x0\n",
    "    r = x0 + h .* fun(xn) - xn\n",
    "    e = [norm(r)]\n",
    "\n",
    "    while e[end] > 1e-8\n",
    "        ∂r = ForwardDiff.jacobian(x -> x0 + h .* fun(x) - x, xn)\n",
    "        xn = xn - ∂r\\r\n",
    "        r = x0 + h .* fun(xn) - xn\n",
    "        e = [e; norm(r)]\n",
    "    end\n",
    "\n",
    "    return xn, e"
   ]
  }
 ],
 "metadata": {
  "kernelspec": {
   "display_name": "Python 3 (ipykernel)",
   "language": "python",
   "name": "python3"
  },
  "language_info": {
   "codemirror_mode": {
    "name": "ipython",
    "version": 3
   },
   "file_extension": ".py",
   "mimetype": "text/x-python",
   "name": "python",
   "nbconvert_exporter": "python",
   "pygments_lexer": "ipython3",
   "version": "3.11.9"
  }
 },
 "nbformat": 4,
 "nbformat_minor": 5
}
